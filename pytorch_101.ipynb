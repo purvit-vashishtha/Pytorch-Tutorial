{
 "cells": [
  {
   "cell_type": "markdown",
   "id": "cathedral-sally",
   "metadata": {
    "_cell_guid": "b1076dfc-b9ad-4769-8c92-a6c4dae69d19",
    "_uuid": "8f2839f25d086af736a60e9eeb907d3b93b6e0e5",
    "papermill": {
     "duration": 0.028882,
     "end_time": "2021-05-28T09:00:59.330265",
     "exception": false,
     "start_time": "2021-05-28T09:00:59.301383",
     "status": "completed"
    },
    "tags": []
   },
   "source": [
    "# 1. Introduction\n",
    "This notebook is focused on Deep learning in baby steps. For a beginner, who has no idea about neural networks and how they work can be frustrating sometimes. But don't worry, I'll try to make it simpler and try to make you understand the concept.\n",
    "\n",
    "I will also be providing video lectures and articles that helped me.\n",
    "<div class=\"alert alert-block alert-warning\"> \n",
    "<strong>Note</strong>: Deep learning coding is VERY different in structure than the usual <em>sklearn</em> for machine learning. In addition, it usually works with <em>images</em> and <em>text</em>, while <em>ML</em> usually works with <em>tabular</em> data. So please, be patient with yourself and if you don't understand something right away, continue reading/ coding and it will all make sense in the end.\n",
    "</div>\n",
    "\n",
    "<img src='https://miro.medium.com/max/1200/1*4br4WmxNo0jkcsY796jGDQ.jpeg' width=200>\n",
    "\n",
    "**Pytorch** is a library that has many advantages over *Keras* and is widely used nowadays. It has different structure as compared to *sklearn*.\n",
    "\n",
    "**Tensors**: Instead of working with tabular data or numpy arrays, we'll be working with tensors. A tensor is a container which can house data in *N dimensions*. Although, Tensor is similar to numpy arrays, the difference is that it supports better GPU support so they are faster as compared to numpy arrays"
   ]
  },
  {
   "cell_type": "code",
   "execution_count": 1,
   "id": "alive-tiffany",
   "metadata": {
    "execution": {
     "iopub.execute_input": "2021-05-28T09:00:59.395040Z",
     "iopub.status.busy": "2021-05-28T09:00:59.394148Z",
     "iopub.status.idle": "2021-05-28T09:01:00.606492Z",
     "shell.execute_reply": "2021-05-28T09:01:00.605889Z",
     "shell.execute_reply.started": "2021-05-28T09:00:27.044200Z"
    },
    "papermill": {
     "duration": 1.249473,
     "end_time": "2021-05-28T09:01:00.606665",
     "exception": false,
     "start_time": "2021-05-28T09:00:59.357192",
     "status": "completed"
    },
    "tags": []
   },
   "outputs": [
    {
     "name": "stdout",
     "output_type": "stream",
     "text": [
      "tensor([[-1.3181e+22,  4.5785e-41, -1.3229e+22],\n",
      "        [ 4.5785e-41, -1.3181e+22,  4.5785e-41],\n",
      "        [-1.3230e+22,  4.5785e-41, -1.3696e+22],\n",
      "        [ 4.5785e-41, -1.2982e+22,  4.5785e-41],\n",
      "        [-1.2983e+22,  4.5785e-41, -1.2982e+22]])\n",
      "tensor([[1., 1., 1.],\n",
      "        [1., 1., 1.],\n",
      "        [1., 1., 1.],\n",
      "        [1., 1., 1.],\n",
      "        [1., 1., 1.]])\n",
      "tensor([[0, 1, 2],\n",
      "        [3, 4, 5]])\n"
     ]
    }
   ],
   "source": [
    "# importing Pytorch modules\n",
    "\n",
    "import torch\n",
    "\n",
    "x = torch.empty(5,3)       #torch.empty generates random values\n",
    "print(x)\n",
    "\n",
    "y= torch.ones(5,3)         #torch.ones generates number of ones\n",
    "print(y)\n",
    "\n",
    "a = torch.tensor([[0,1,2],[3,4,5]])  #it helps in saving in matrix format\n",
    "print(a)"
   ]
  },
  {
   "cell_type": "markdown",
   "id": "automated-contest",
   "metadata": {
    "papermill": {
     "duration": 0.026955,
     "end_time": "2021-05-28T09:01:00.661421",
     "exception": false,
     "start_time": "2021-05-28T09:01:00.634466",
     "status": "completed"
    },
    "tags": []
   },
   "source": [
    "# 2. Neural Networks\n",
    "\n",
    "## 2.1 Youtube videos are the best if you want to grasp more and save your valuable time.\n",
    "Here are some links for video lectures:\n",
    "<div class=\"alert alert-block alert-info\">\n",
    "<img src='https://upload.wikimedia.org/wikipedia/commons/b/ba/3B1B_Logo.png' width='50' align='left'></img>\n",
    "<p><a href='https://www.youtube.com/watch?v=aircAruvnKk&t=1007s'>What are Neural Networks?</a></p>\n",
    "<p><a href='https://www.youtube.com/watch?v=IHZwWFHWa-w'>How do Neural Networks learn?</a></p>\n",
    "\n",
    "Watch above videos for visualizing neural networks and how it works.\n",
    "</div>\n",
    "\n",
    "## 2.2 Perceptron\n",
    "A **Perceptron** is a single layer neural network, while a **Multi Layer Perceptron** is called a Neural Network. \n",
    "\n",
    "I **highly suggest** reading [this blog post](https://towardsdatascience.com/what-the-hell-is-perceptron-626217814f53) for some very good explanations.\n",
    "\n",
    "<img src = 'https://i.imgur.com/IHgw2au.png' width='400'>\n",
    "\n",
    "## 2.3 Deep vs Shallow Networks\n",
    "Plain vanilla Neural Networks (or Feed Forward Neural Networks or FNNs) have the most simple architecture in the Neural Networks realm, but their basics will help you understand much more compicated stuff ahead.\n",
    "\n",
    "In Feed Foward Neural Nets, the hidden layers gradually /increase/decrease in hidden size (number of neurons) so more and more **details** of the input (images, text etc.) can be grasped.\n",
    "\n",
    "\n",
    "<img src='https://i.imgur.com/D8QhLWM.png' width=350>\n",
    "\n",
    "It is known that Deep Neural Nets (thin and tall) are **better** than Shallow ones (fat and short). This happens because the deep ones can learn more and more abstract representations the *deeper* you go. Also, the number of parameters is smaller so the training is faster.\n",
    "\n",
    "... Let's start programming.\n",
    "\n",
    "# 3. The Data - MNIST\n",
    "\n",
    "We'll be working in MNIST Dataset, which is usually the go-to dataset when starting in Neural Networks. Nevertheless, you can apply the following principles on any datasets (images, text, tabular data, audio data), as **all data can be represented in numbers**. Cuz this is just it: numbers."
   ]
  },
  {
   "cell_type": "code",
   "execution_count": 2,
   "id": "identified-november",
   "metadata": {
    "execution": {
     "iopub.execute_input": "2021-05-28T09:01:00.721945Z",
     "iopub.status.busy": "2021-05-28T09:01:00.721314Z",
     "iopub.status.idle": "2021-05-28T09:01:01.777412Z",
     "shell.execute_reply": "2021-05-28T09:01:01.776449Z",
     "shell.execute_reply.started": "2021-05-28T09:00:32.230399Z"
    },
    "papermill": {
     "duration": 1.089,
     "end_time": "2021-05-28T09:01:01.777567",
     "exception": false,
     "start_time": "2021-05-28T09:01:00.688567",
     "status": "completed"
    },
    "tags": []
   },
   "outputs": [],
   "source": [
    "# importing pytorch modules\n",
    "import torch\n",
    "import torch.nn as nn                            # to access built-in functions to make a NN\n",
    "import torch.optim as optim                      # optimizers\n",
    "from torchvision import datasets, transforms     # to access the MNIST dataset\n",
    "import torch.nn.functional as F   # to access activation functions\n",
    "\n",
    "# libraries you may know already\n",
    "import numpy as np\n",
    "import matplotlib.pyplot as plt # for plotting\n",
    "%matplotlib inline\n",
    "import seaborn as sns\n",
    "import sklearn.metrics\n",
    "import warnings\n",
    "warnings.filterwarnings(action=\"ignore\")"
   ]
  },
  {
   "cell_type": "code",
   "execution_count": 3,
   "id": "expanded-baseline",
   "metadata": {
    "execution": {
     "iopub.execute_input": "2021-05-28T09:01:01.840194Z",
     "iopub.status.busy": "2021-05-28T09:01:01.839385Z",
     "iopub.status.idle": "2021-05-28T09:06:45.381784Z",
     "shell.execute_reply": "2021-05-28T09:06:45.382363Z",
     "shell.execute_reply.started": "2021-05-28T09:00:35.701080Z"
    },
    "papermill": {
     "duration": 343.577595,
     "end_time": "2021-05-28T09:06:45.382566",
     "exception": false,
     "start_time": "2021-05-28T09:01:01.804971",
     "status": "completed"
    },
    "tags": []
   },
   "outputs": [
    {
     "name": "stdout",
     "output_type": "stream",
     "text": [
      "Downloading http://yann.lecun.com/exdb/mnist/train-images-idx3-ubyte.gz to data/MNIST/raw/train-images-idx3-ubyte.gz\n"
     ]
    },
    {
     "data": {
      "application/vnd.jupyter.widget-view+json": {
       "model_id": "cf1d93f13b3342c5a89cc636d893525d",
       "version_major": 2,
       "version_minor": 0
      },
      "text/plain": [
       "0it [00:00, ?it/s]"
      ]
     },
     "metadata": {},
     "output_type": "display_data"
    },
    {
     "name": "stdout",
     "output_type": "stream",
     "text": [
      "Extracting data/MNIST/raw/train-images-idx3-ubyte.gz to data/MNIST/raw\n",
      "Downloading http://yann.lecun.com/exdb/mnist/train-labels-idx1-ubyte.gz to data/MNIST/raw/train-labels-idx1-ubyte.gz\n"
     ]
    },
    {
     "data": {
      "application/vnd.jupyter.widget-view+json": {
       "model_id": "31389bd4eece45bebddf73df696f20cf",
       "version_major": 2,
       "version_minor": 0
      },
      "text/plain": [
       "0it [00:00, ?it/s]"
      ]
     },
     "metadata": {},
     "output_type": "display_data"
    },
    {
     "name": "stdout",
     "output_type": "stream",
     "text": [
      "Extracting data/MNIST/raw/train-labels-idx1-ubyte.gz to data/MNIST/raw\n",
      "Downloading http://yann.lecun.com/exdb/mnist/t10k-images-idx3-ubyte.gz to data/MNIST/raw/t10k-images-idx3-ubyte.gz\n"
     ]
    },
    {
     "data": {
      "application/vnd.jupyter.widget-view+json": {
       "model_id": "5c86804b2aa14b5d9cf5e8c053fde67e",
       "version_major": 2,
       "version_minor": 0
      },
      "text/plain": [
       "0it [00:00, ?it/s]"
      ]
     },
     "metadata": {},
     "output_type": "display_data"
    },
    {
     "name": "stdout",
     "output_type": "stream",
     "text": [
      "Extracting data/MNIST/raw/t10k-images-idx3-ubyte.gz to data/MNIST/raw\n",
      "Downloading http://yann.lecun.com/exdb/mnist/t10k-labels-idx1-ubyte.gz to data/MNIST/raw/t10k-labels-idx1-ubyte.gz\n"
     ]
    },
    {
     "data": {
      "application/vnd.jupyter.widget-view+json": {
       "model_id": "af73d4656ad94b9b8451c362fd55b8c4",
       "version_major": 2,
       "version_minor": 0
      },
      "text/plain": [
       "0it [00:00, ?it/s]"
      ]
     },
     "metadata": {},
     "output_type": "display_data"
    },
    {
     "name": "stdout",
     "output_type": "stream",
     "text": [
      "Extracting data/MNIST/raw/t10k-labels-idx1-ubyte.gz to data/MNIST/raw\n",
      "Processing...\n",
      "Done!\n"
     ]
    }
   ],
   "source": [
    "# Load in the data from torchvision datasets \n",
    "# train=True to access training images and train=False to access test images\n",
    "# We also transform to Tensors the images\n",
    "mnist_train = datasets.MNIST('data', train = True, download = True, transform=transforms.ToTensor())\n",
    "mnist_test = datasets.MNIST('data', train = False, download = True, transform=transforms.ToTensor())"
   ]
  },
  {
   "cell_type": "code",
   "execution_count": 4,
   "id": "opening-bangkok",
   "metadata": {
    "execution": {
     "iopub.execute_input": "2021-05-28T09:06:45.450157Z",
     "iopub.status.busy": "2021-05-28T09:06:45.449324Z",
     "iopub.status.idle": "2021-05-28T09:06:53.494631Z",
     "shell.execute_reply": "2021-05-28T09:06:53.495194Z",
     "shell.execute_reply.started": "2021-05-28T06:49:56.795798Z"
    },
    "papermill": {
     "duration": 8.081613,
     "end_time": "2021-05-28T09:06:53.495391",
     "exception": false,
     "start_time": "2021-05-28T09:06:45.413778",
     "status": "completed"
    },
    "tags": []
   },
   "outputs": [
    {
     "name": "stdout",
     "output_type": "stream",
     "text": [
      "Structure of train data: Dataset MNIST\n",
      "    Number of datapoints: 60000\n",
      "    Root location: data\n",
      "    Split: Train\n",
      "    StandardTransform\n",
      "Transform: ToTensor() \n",
      "\n",
      "Structure of test data: Dataset MNIST\n",
      "    Number of datapoints: 10000\n",
      "    Root location: data\n",
      "    Split: Test\n",
      "    StandardTransform\n",
      "Transform: ToTensor() \n",
      "\n",
      "Image on index 0 shape: torch.Size([1, 28, 28])\n",
      "Image on index 0 label: 5\n"
     ]
    }
   ],
   "source": [
    "# How the object looks:\n",
    "print('Structure of train data:', mnist_train, '\\n')\n",
    "print('Structure of test data:', mnist_test, '\\n')\n",
    "print('Image on index 0 shape:', list(mnist_train)[0][0].shape)\n",
    "print('Image on index 0 label:', list(mnist_train)[0][1])"
   ]
  },
  {
   "cell_type": "code",
   "execution_count": 5,
   "id": "legitimate-healing",
   "metadata": {
    "execution": {
     "iopub.execute_input": "2021-05-28T09:06:53.564281Z",
     "iopub.status.busy": "2021-05-28T09:06:53.563168Z",
     "iopub.status.idle": "2021-05-28T09:06:54.747324Z",
     "shell.execute_reply": "2021-05-28T09:06:54.746865Z",
     "shell.execute_reply.started": "2021-05-28T06:50:09.411615Z"
    },
    "papermill": {
     "duration": 1.22008,
     "end_time": "2021-05-28T09:06:54.747448",
     "exception": false,
     "start_time": "2021-05-28T09:06:53.527368",
     "status": "completed"
    },
    "tags": []
   },
   "outputs": [
    {
     "data": {
      "image/png": "[encoded data removed]",
      "text/plain": [
       "<Figure size 1152x216 with 16 Axes>"
      ]
     },
     "metadata": {
      "needs_background": "light"
     },
     "output_type": "display_data"
    }
   ],
   "source": [
    "# Visualize sample of images:\n",
    "sample = datasets.MNIST('data', train=True, download=True)\n",
    "\n",
    "plt.figure(figsize = (16, 3))\n",
    "for i,(image, label) in enumerate(sample):\n",
    "    if i>=16:\n",
    "        break\n",
    "    plt.subplot(2,8,i+1)\n",
    "    plt.imshow(image)"
   ]
  },
  {
   "cell_type": "markdown",
   "id": "cathedral-sacrifice",
   "metadata": {
    "papermill": {
     "duration": 0.03234,
     "end_time": "2021-05-28T09:06:54.812702",
     "exception": false,
     "start_time": "2021-05-28T09:06:54.780362",
     "status": "completed"
    },
    "tags": []
   },
   "source": [
    "# 4. Vanilla FNN Neural Network\n",
    "if we were working with sklearn library then, we just have to call the object of the model e.g: let's say of `RandomForestClassifier()` and then hypertune their parameters for which there is already a predefined class which we don't have to create every time. But while dealing or working with neural networks, we certainly have to define our own class.\n",
    "\n",
    "For Neural Networks is different: they can be so volatile, depending on the structure of your input (eg. an image of shape `[3, 500, 250]`), number of `hidden layers`, number of `neurons` in each hidden layer, whether or not you want to call the `Dropout()` functions etc. You can also build multiple neural networks and then combine them in another one (for example in a Sequence2Sequence RNN).\n",
    "\n",
    ">Note:`super()` function is there because the `MNISTClassifier` class inherits attributes from it's parent class `nn.Module`. By calling this function we make this possible. Removing it would lead to an *error*."
   ]
  },
  {
   "cell_type": "code",
   "execution_count": 6,
   "id": "harmful-vision",
   "metadata": {
    "execution": {
     "iopub.execute_input": "2021-05-28T09:06:54.925098Z",
     "iopub.status.busy": "2021-05-28T09:06:54.924353Z",
     "iopub.status.idle": "2021-05-28T09:06:54.929384Z",
     "shell.execute_reply": "2021-05-28T09:06:54.928560Z",
     "shell.execute_reply.started": "2021-05-28T06:50:16.334918Z"
    },
    "papermill": {
     "duration": 0.07319,
     "end_time": "2021-05-28T09:06:54.929552",
     "exception": false,
     "start_time": "2021-05-28T09:06:54.856362",
     "status": "completed"
    },
    "tags": []
   },
   "outputs": [],
   "source": [
    "#creating the network\n",
    "class MNISTClassifier(nn.Module):                  # nn.Module is a subclass from which we inherit\n",
    "    def __init__(self):                            #defining structure\n",
    "        super(MNISTClassifier, self).__init__() \n",
    "        self.layers = nn.Sequential(nn.Linear(28*28, 50),   # adding first layer: 784 neurons to 50\n",
    "                                    nn.ReLU(),               # calling activation function\n",
    "                                    nn.Linear(50, 20),      # adding second layer: 50 neurons to 20\n",
    "                                    nn.ReLU(),               # activation function\n",
    "                                    nn.Linear(20, 10)        # output layer having 10 neurons\n",
    "                                   )\n",
    "        #output layer contains number of classes we want to predict\n",
    "        \n",
    "    def forward(self, image, prints=False):\n",
    "        if prints: print(\"Image shape:\", image.shape)\n",
    "        image = image.view(-1,28*28)                   # Flatten image: from [1, 28, 28] to [784]\n",
    "        if prints: print('Image reshaped:', image.shape)\n",
    "        out = self.layers(image)                            # Create Log Probabilities\n",
    "        if prints: print('Out shape:', out.shape)\n",
    "        \n",
    "        return out"
   ]
  },
  {
   "cell_type": "markdown",
   "id": "following-orchestra",
   "metadata": {
    "papermill": {
     "duration": 0.052499,
     "end_time": "2021-05-28T09:06:55.041064",
     "exception": false,
     "start_time": "2021-05-28T09:06:54.988565",
     "status": "completed"
    },
    "tags": []
   },
   "source": [
    "Great!! You just made it through this!"
   ]
  },
  {
   "cell_type": "markdown",
   "id": "conservative-rally",
   "metadata": {
    "papermill": {
     "duration": 0.052555,
     "end_time": "2021-05-28T09:06:55.146532",
     "exception": false,
     "start_time": "2021-05-28T09:06:55.093977",
     "status": "completed"
    },
    "tags": []
   },
   "source": [
    "## 4.1 Activation Functions\n",
    "An activation function is a fancy way of saying that we are making the output of each neuron *nonlinear*, because we WANT to learn non-linear relationships between the input and the output.\n",
    "\n",
    "There are maaany types of activation functions, but some of them are:\n",
    "\n",
    "### Rectifier Linear Unit (ReLu)\n",
    "The function is linear when the activation is above zero, and is equal to zero otherwise.\n",
    "<img src=\"https://miro.medium.com/max/1026/0*g9ypL5M3k-f7EW85.png\" width=\"350\">\n",
    "\n",
    "### Sigmoid\n",
    "The sigmoid function has a tilted \"S\" shape, and its output is always between 0 and 1. They are *interpreted as probabilities* (probability of input to be digit 1, probability of input to be digit 2 etc.).\n",
    "<img src=\"https://miro.medium.com/max/4000/1*JHWL_71qml0kP_Imyx4zBg.png\" width=\"350\">\n",
    "\n",
    "### Tanh\n",
    "A variation of the Sigmoid, but it outputs values between -1 and 1.\n",
    "<img src=\"https://mathworld.wolfram.com/images/interactive/TanhReal.gif\" width=\"300\">\n",
    "\n",
    "These Activation Functions squish the neuron's output between the 2 values, preventing big numbers becoming much bigger and small numbers becoming much smaller.\n",
    "\n",
    "## 4.2 Making a Forward Pass\n",
    "\n",
    "A forward pass is when you take the images one by one (or batch by batch, we'll come back to this) and we put them through the neural network, which outputs for each a log probability (10 in out case).\n",
    "\n",
    "Let's look at 1 example:\n",
    "\n",
    "<img src='https://i.imgur.com/ywMFtDz.png' width='600'>"
   ]
  },
  {
   "cell_type": "code",
   "execution_count": 7,
   "id": "express-tragedy",
   "metadata": {
    "execution": {
     "iopub.execute_input": "2021-05-28T09:06:55.261096Z",
     "iopub.status.busy": "2021-05-28T09:06:55.260321Z",
     "iopub.status.idle": "2021-05-28T09:06:55.318148Z",
     "shell.execute_reply": "2021-05-28T09:06:55.319437Z",
     "shell.execute_reply.started": "2021-05-28T06:50:25.052624Z"
    },
    "papermill": {
     "duration": 0.120267,
     "end_time": "2021-05-28T09:06:55.319657",
     "exception": false,
     "start_time": "2021-05-28T09:06:55.199390",
     "status": "completed"
    },
    "tags": []
   },
   "outputs": [
    {
     "name": "stdout",
     "output_type": "stream",
     "text": [
      "Image shape: torch.Size([1, 28, 28]) \n",
      "\n",
      "Label: 5 \n",
      "\n",
      "MNISTClassifier(\n",
      "  (layers): Sequential(\n",
      "    (0): Linear(in_features=784, out_features=50, bias=True)\n",
      "    (1): ReLU()\n",
      "    (2): Linear(in_features=50, out_features=20, bias=True)\n",
      "    (3): ReLU()\n",
      "    (4): Linear(in_features=20, out_features=10, bias=True)\n",
      "  )\n",
      ") \n",
      "\n",
      "Image shape: torch.Size([1, 28, 28])\n",
      "Image reshaped: torch.Size([1, 784])\n",
      "Out shape: torch.Size([1, 10])\n",
      "out: tensor([[-0.0371,  0.2867, -0.0227,  0.1967,  0.1084,  0.0576, -0.0036, -0.0246,\n",
      "         -0.2160,  0.1166]], grad_fn=<AddmmBackward>) \n",
      "\n",
      "Prediction: tensor([1])\n"
     ]
    }
   ],
   "source": [
    "torch.manual_seed(1) # set the manual seed\n",
    "np.random.seed(1)  # set random seed in numpy\n",
    "\n",
    "# Selecting 1 image with its label\n",
    "image_ex, label_ex = mnist_train[0]\n",
    "print(\"Image shape:\", image_ex.shape,\"\\n\")\n",
    "print(\"Label:\", label_ex,\"\\n\")\n",
    "\n",
    "# creating an instance of model\n",
    "model_example = MNISTClassifier()\n",
    "print(model_example,\"\\n\")\n",
    "\n",
    "# creating log probabilities\n",
    "out = model_example(image_ex, prints=True)\n",
    "print(\"out:\",out,\"\\n\")\n",
    "\n",
    "# Choose maximum probability and then select only the label (not the prob number)\n",
    "prediction = out.max(dim=1)[1]\n",
    "print(\"Prediction:\", prediction)"
   ]
  },
  {
   "cell_type": "markdown",
   "id": "differential-palmer",
   "metadata": {
    "papermill": {
     "duration": 0.033811,
     "end_time": "2021-05-28T09:06:55.398008",
     "exception": false,
     "start_time": "2021-05-28T09:06:55.364197",
     "status": "completed"
    },
    "tags": []
   },
   "source": [
    "<div class=\"alert alert-block alert-info\"> \n",
    "Prediction is wrong because we have not yet trained the model.\n",
    "Don't worry we are going to get correct predictions soon😉.\n",
    "</div>\n",
    "\n",
    "## 4.3 Backpropagation\n",
    "\n",
    "So, the purpose is to UPDATE the weights and biases in the neural network so it *learns* to recognize the digits and accurately classify them. This is done during backpropagation, when the model literally goes back and updates the parameters (weights) a little bit. Before going any further, I highly recommend watching the following video which explains the concept of Backpropagation.\n",
    "\n",
    "<div class=\"alert alert-block alert-info\">\n",
    "<img src='https://upload.wikimedia.org/wikipedia/commons/b/ba/3B1B_Logo.png' width='50' align='left'></img>\n",
    "<p><a href='https://www.youtube.com/watch?v=Ilg3gGewQ5U&list=PLZHQObOWTQDNU6R1_67000Dx_ZCJB-3pi&index=3'>What is Backpropagation really doing?</a></p>\n",
    "<p>Cheers again to 3Blue1Brown for his amazing structured videos.</p>\n",
    "</div>\n",
    "\n",
    "### 4.3.1 Loss and Optimizer Functions:\n",
    "\n",
    "These 2 are like brother and sister: work hand in hand during the neural network training. They change by the case, but their main purpose is the same:\n",
    "\n",
    "**Loss Function (`criterion`): given an output and an actual, it computes the difference between them**\n",
    "* Regressive loss functions:\n",
    "    * MAE: `torch.nn.L1Loss()`\n",
    "    * MSE: `torch.nn.MSELoss()` etc.\n",
    "* Classification loss functions:\n",
    "    * Cross Entropy Loss: `torch.nn.CrossEntropyLoss()`\n",
    "    * Binary Cross Entropy Loss: `torch.nn.BCELoss()` etc.\n",
    "* Embedding Loss functions (whether 2 inputs are similar or not):\n",
    "    * Hinge Loss: `torch.nn.HingeEmbeddingLoss()`\n",
    "    * Cosine Loss: `torch.nn.CosineEmbeddingLoss()` etc.\n",
    "\n",
    "**Optimizer Function (`torch.optim`): updates the weights and biases to REDUCE the loss**\n",
    "* Examples:\n",
    "    * Stochastic Gradient Descent: `SGD()`\n",
    "    * Adam: `Adam()`   (widely used)\n",
    "    * Adagrad: `Adagrad()`\n",
    "    \n",
    "Different neural networks and purposes can require different loss and optimizer functions. Click [here](https://pytorch.org/docs/stable/nn.html) to check all of them."
   ]
  },
  {
   "cell_type": "code",
   "execution_count": 8,
   "id": "union-midwest",
   "metadata": {
    "execution": {
     "iopub.execute_input": "2021-05-28T09:06:55.470252Z",
     "iopub.status.busy": "2021-05-28T09:06:55.469621Z",
     "iopub.status.idle": "2021-05-28T09:06:55.472886Z",
     "shell.execute_reply": "2021-05-28T09:06:55.473537Z",
     "shell.execute_reply.started": "2021-05-28T06:56:30.733226Z"
    },
    "papermill": {
     "duration": 0.041944,
     "end_time": "2021-05-28T09:06:55.473711",
     "exception": false,
     "start_time": "2021-05-28T09:06:55.431767",
     "status": "completed"
    },
    "tags": []
   },
   "outputs": [
    {
     "name": "stdout",
     "output_type": "stream",
     "text": [
      "Criterion: CrossEntropyLoss() \n",
      "\n",
      "Optimizer: SGD (\n",
      "Parameter Group 0\n",
      "    dampening: 0\n",
      "    lr: 0.004\n",
      "    momentum: 0.9\n",
      "    nesterov: False\n",
      "    weight_decay: 0\n",
      ") \n",
      "\n"
     ]
    }
   ],
   "source": [
    "# LOSS and Optimizer instances\n",
    "\n",
    "# Loss is the function that calculates how far is the prediction from the true value\n",
    "criterion = nn.CrossEntropyLoss()\n",
    "print(\"Criterion:\", criterion,\"\\n\")\n",
    "\n",
    "# Using this loss the Optimizer computes the gradients of each neuron and updates the weights\n",
    "optimizer = optim.SGD(model_example.parameters(), lr = 0.004, momentum=0.9)   #stochastic gradient descent\n",
    "print(\"Optimizer:\",optimizer,\"\\n\")"
   ]
  },
  {
   "cell_type": "markdown",
   "id": "boolean-murray",
   "metadata": {
    "papermill": {
     "duration": 0.032973,
     "end_time": "2021-05-28T09:06:55.540830",
     "exception": false,
     "start_time": "2021-05-28T09:06:55.507857",
     "status": "completed"
    },
    "tags": []
   },
   "source": [
    "### 4.3.2 MNISTClassifier trainable parameters:\n",
    "* 1 : torch.Size([50, 784]) - 50 weights (or parameters) for each 28x28 neurons (28x28x50 weights in total)\n",
    "* 2 : torch.Size([50]) - 50 biases\n",
    "* 3 : torch.Size([20, 50]) - 20 weights (or parameters) for each 50 neurons (50x20 weights in total)\n",
    "* 4 : torch.Size([20]) - 20 biases\n",
    "* 5 : torch.Size([10, 20]) - 10 weights (or parameters) for each 20 neurons (10x20 weights in total)\n",
    "* 6 : torch.Size([10]) - value of the final neurons (the log probabilities)"
   ]
  },
  {
   "cell_type": "code",
   "execution_count": 9,
   "id": "decent-occasions",
   "metadata": {
    "execution": {
     "iopub.execute_input": "2021-05-28T09:06:55.612136Z",
     "iopub.status.busy": "2021-05-28T09:06:55.611304Z",
     "iopub.status.idle": "2021-05-28T09:06:55.616993Z",
     "shell.execute_reply": "2021-05-28T09:06:55.617544Z",
     "shell.execute_reply.started": "2021-05-28T06:56:35.556979Z"
    },
    "papermill": {
     "duration": 0.04382,
     "end_time": "2021-05-28T09:06:55.617722",
     "exception": false,
     "start_time": "2021-05-28T09:06:55.573902",
     "status": "completed"
    },
    "tags": []
   },
   "outputs": [
    {
     "name": "stdout",
     "output_type": "stream",
     "text": [
      "1 : torch.Size([50, 784])\n",
      "2 : torch.Size([50])\n",
      "3 : torch.Size([20, 50])\n",
      "4 : torch.Size([20])\n",
      "5 : torch.Size([10, 20])\n",
      "6 : torch.Size([10])\n"
     ]
    }
   ],
   "source": [
    "# Let's also look at how many parameters (weights and biases) are updating during 1 single backpropagation\n",
    "# Parameter Understanding\n",
    "for i in range(6):\n",
    "    print(i+1,\":\",list(model_example.parameters())[i].shape)"
   ]
  },
  {
   "cell_type": "markdown",
   "id": "registered-copper",
   "metadata": {
    "papermill": {
     "duration": 0.033892,
     "end_time": "2021-05-28T09:06:55.686370",
     "exception": false,
     "start_time": "2021-05-28T09:06:55.652478",
     "status": "completed"
    },
    "tags": []
   },
   "source": [
    "### 4.3.3 Do 1 BackPropagation : Obtain loss and update weights"
   ]
  },
  {
   "cell_type": "code",
   "execution_count": 10,
   "id": "executive-header",
   "metadata": {
    "execution": {
     "iopub.execute_input": "2021-05-28T09:06:55.761097Z",
     "iopub.status.busy": "2021-05-28T09:06:55.758946Z",
     "iopub.status.idle": "2021-05-28T09:06:55.833607Z",
     "shell.execute_reply": "2021-05-28T09:06:55.833163Z",
     "shell.execute_reply.started": "2021-05-28T06:56:38.36198Z"
    },
    "papermill": {
     "duration": 0.11383,
     "end_time": "2021-05-28T09:06:55.833735",
     "exception": false,
     "start_time": "2021-05-28T09:06:55.719905",
     "status": "completed"
    },
    "tags": []
   },
   "outputs": [
    {
     "name": "stdout",
     "output_type": "stream",
     "text": [
      "Log Probabilities: tensor([[-0.0371,  0.2867, -0.0227,  0.1967,  0.1084,  0.0576, -0.0036, -0.0246,\n",
      "         -0.2160,  0.1166]], grad_fn=<AddmmBackward>) \n",
      "\n",
      "Actual Value: tensor([5])\n",
      "Loss: tensor(2.3000, grad_fn=<NllLossBackward>) \n",
      "\n"
     ]
    }
   ],
   "source": [
    "torch.manual_seed(1)  # set random seed\n",
    "np.random.seed(1)  # set random seed for numpy\n",
    "\n",
    "print(\"Log Probabilities:\",out,\"\\n\")\n",
    "print(\"Actual Value:\", torch.tensor(label_ex).reshape(-1))\n",
    "\n",
    "# clear gradients: needs to be done before applying backpropagation\n",
    "optimizer.zero_grad()\n",
    "# compute loss\n",
    "loss = criterion(out, torch.tensor(label_ex).reshape(-1))\n",
    "print(\"Loss:\", loss,\"\\n\")\n",
    "\n",
    "#compute gradients\n",
    "loss.backward()\n",
    "\n",
    "# update weights\n",
    "optimizer.step()\n",
    "\n",
    "# After this 1 iteration the weights have updated once"
   ]
  },
  {
   "cell_type": "markdown",
   "id": "social-conservative",
   "metadata": {
    "papermill": {
     "duration": 0.034277,
     "end_time": "2021-05-28T09:06:55.902499",
     "exception": false,
     "start_time": "2021-05-28T09:06:55.868222",
     "status": "completed"
    },
    "tags": []
   },
   "source": [
    "Until now we:\n",
    "1. Created a Vanilla FNN\n",
    "2. Took 1 image through the network and create prediction\n",
    "3. Look at the prediction vs actual and computed the loss\n",
    "4. Using the loss we updated the weights and biases\n",
    "\n",
    "This is called training. The next chapters will be dedicated to training the network and improving it.\n",
    "\n",
    "# 5. Training the Neural Network\n",
    "Our purpose now that we have the structure in place and the data is to make the Vanilla FNN perform well.\n",
    "\n",
    "## 5.1 Batches\n",
    "With an artificial neural network, we may want to use more than one image at one time. That way, we can compute the *average* loss across a **mini-batch** of **multiple** images, and take a step to optimize the **average** loss. The average loss across multiple training inputs is going to be less \"noisy\" than the loss for a single input, and is less likely to provide \"bad information\" because of a \"bad\" input.\n",
    "\n",
    "Batches can have different sizes:\n",
    "* one extreme is `batch_size` = 1: meaning that we compute the loss and update after EACH image (so we have 60,000 batches of size 1)\n",
    "* a `batch_size` = 60: means that, for 60,000 training images, we'll have 1000 batches of size 60\n",
    "* the other extreme is `batch_size` = 60,000: when we input ALL images and do 1 backpropagation (we have 1 batch of size 60,000 images)\n",
    "\n",
    "The actual batch size that we choose depends on many things. We want our batch size to be large enough to not be too \"noisy\", but not so large as to make each iteration too expensive to run.\n",
    "\n",
    "<img src='https://i.imgur.com/M6ZkRXa.png' width='400'>\n",
    "\n",
    "In the above example, instead of having 70 noisy losses we'll have just 7 averaged losses."
   ]
  },
  {
   "cell_type": "code",
   "execution_count": 11,
   "id": "animated-fundamentals",
   "metadata": {
    "execution": {
     "iopub.execute_input": "2021-05-28T09:06:55.976814Z",
     "iopub.status.busy": "2021-05-28T09:06:55.976021Z",
     "iopub.status.idle": "2021-05-28T09:06:55.991609Z",
     "shell.execute_reply": "2021-05-28T09:06:55.991972Z",
     "shell.execute_reply.started": "2021-05-28T07:12:41.928379Z"
    },
    "papermill": {
     "duration": 0.05526,
     "end_time": "2021-05-28T09:06:55.992126",
     "exception": false,
     "start_time": "2021-05-28T09:06:55.936866",
     "status": "completed"
    },
    "tags": []
   },
   "outputs": [
    {
     "name": "stdout",
     "output_type": "stream",
     "text": [
      "Train loader: <torch.utils.data.dataloader.DataLoader object at 0x7fa12cdb9490> \n",
      "\n",
      "Object shape: torch.Size([60, 1, 28, 28])\n",
      "Label values: tensor([6, 1, 4, 0, 7, 1, 8, 9, 0, 1, 2, 4, 2, 5, 9, 3, 9, 5, 1, 4, 1, 1, 3, 3,\n",
      "        2, 4, 3, 7, 8, 8, 1, 1, 4, 5, 4, 5, 0, 1, 0, 0, 7, 3, 7, 5, 0, 4, 1, 5,\n",
      "        3, 7, 9, 4, 6, 2, 6, 8, 5, 1, 5, 0])\n",
      "Total Images: torch.Size([60])\n"
     ]
    }
   ],
   "source": [
    "# Create trainloaders for train and test data\n",
    "# We put shuffle=True so the images shuffle after every epoch\n",
    "train_loader = torch.utils.data.DataLoader(mnist_train, batch_size=60, shuffle=True)\n",
    "test_loader = torch.utils.data.DataLoader(mnist_test, batch_size=60, shuffle=True)\n",
    "\n",
    "# inspect Trainloader\n",
    "print(\"Train loader:\",train_loader,\"\\n\")\n",
    "\n",
    "# select first batch\n",
    "imgs, labels = next(iter(train_loader))\n",
    "\n",
    "print('Object shape:', imgs.shape)      # [60, 1, 28, 28]: 60 images of size [1, 28, 28]\n",
    "print('Label values:', labels)          # actual labels for the 60 images\n",
    "print('Total Images:', labels.shape)    # 60 labels in total"
   ]
  },
  {
   "cell_type": "markdown",
   "id": "amino-sleeve",
   "metadata": {
    "papermill": {
     "duration": 0.035102,
     "end_time": "2021-05-28T09:06:56.061514",
     "exception": false,
     "start_time": "2021-05-28T09:06:56.026412",
     "status": "completed"
    },
    "tags": []
   },
   "source": [
    "### 5.1.1 Training the example network on a batch instead of image by image"
   ]
  },
  {
   "cell_type": "code",
   "execution_count": 12,
   "id": "personalized-array",
   "metadata": {
    "execution": {
     "iopub.execute_input": "2021-05-28T09:06:56.135438Z",
     "iopub.status.busy": "2021-05-28T09:06:56.134653Z",
     "iopub.status.idle": "2021-05-28T09:06:56.184491Z",
     "shell.execute_reply": "2021-05-28T09:06:56.184047Z",
     "shell.execute_reply.started": "2021-05-28T07:14:03.141651Z"
    },
    "papermill": {
     "duration": 0.089028,
     "end_time": "2021-05-28T09:06:56.184605",
     "exception": false,
     "start_time": "2021-05-28T09:06:56.095577",
     "status": "completed"
    },
    "tags": []
   },
   "outputs": [
    {
     "name": "stdout",
     "output_type": "stream",
     "text": [
      "-----Batch  0 -----\n",
      "out shape: torch.Size([60, 10])\n",
      "loss: tensor(2.2854, grad_fn=<NllLossBackward>)\n",
      "Optimizing:\n",
      "Done.\n",
      "\n",
      "-----Batch  1 -----\n",
      "out shape: torch.Size([60, 10])\n",
      "loss: tensor(2.3167, grad_fn=<NllLossBackward>)\n",
      "Optimizing:\n",
      "Done.\n",
      "\n",
      "-----Batch  2 -----\n",
      "out shape: torch.Size([60, 10])\n",
      "loss: tensor(2.2779, grad_fn=<NllLossBackward>)\n",
      "Optimizing:\n",
      "Done.\n",
      "\n"
     ]
    }
   ],
   "source": [
    "# setting up seed\n",
    "torch.manual_seed(1)\n",
    "np.random.seed(1)\n",
    "\n",
    "for i, (images, labels) in enumerate(train_loader):\n",
    "    # stop after three iterations\n",
    "    if i>=3:\n",
    "        break\n",
    "        \n",
    "    print(\"-----Batch \",i,\"-----\")\n",
    "    #prediction\n",
    "    out = model_example(images)\n",
    "    print(\"out shape:\", out.shape)\n",
    "    \n",
    "    # update weights\n",
    "    loss = criterion(out, labels)\n",
    "    print(\"loss:\", loss)\n",
    "    \n",
    "    print(\"Optimizing:\")\n",
    "    # Clears the gradients of all optimized\n",
    "    optimizer.zero_grad()\n",
    "    # computes optimizer\n",
    "    loss.backward()\n",
    "    #performs a single optimization step\n",
    "    optimizer.step()\n",
    "    \n",
    "    print(\"Done.\\n\")"
   ]
  },
  {
   "cell_type": "markdown",
   "id": "unavailable-estimate",
   "metadata": {
    "papermill": {
     "duration": 0.034637,
     "end_time": "2021-05-28T09:06:56.253908",
     "exception": false,
     "start_time": "2021-05-28T09:06:56.219271",
     "status": "completed"
    },
    "tags": []
   },
   "source": [
    "## 5.2 Accuracy of the Classifier\n",
    "During Training, we would usually want to check for the accuracy of the model, to see how good or how bad is performing.\n",
    "\n",
    "<div class=\"alert alert-block alert-info\"> \n",
    "<strong>Note</strong>: During <strong>training</strong>, it is highly important to set the model into training mode by calling <code>your_model.train()</code>. This enables gradients training, the Dropout() function etc. When you <strong>evaluate</strong> the model call <code>your_model.eval()</code>. This disables the gradients, Dropout() function etc and sets the model in evaluation mode.\n",
    "</div>"
   ]
  },
  {
   "cell_type": "code",
   "execution_count": 13,
   "id": "external-negative",
   "metadata": {
    "execution": {
     "iopub.execute_input": "2021-05-28T09:06:56.329598Z",
     "iopub.status.busy": "2021-05-28T09:06:56.328873Z",
     "iopub.status.idle": "2021-05-28T09:06:56.365531Z",
     "shell.execute_reply": "2021-05-28T09:06:56.366082Z",
     "shell.execute_reply.started": "2021-05-28T07:15:39.112081Z"
    },
    "papermill": {
     "duration": 0.07772,
     "end_time": "2021-05-28T09:06:56.366279",
     "exception": false,
     "start_time": "2021-05-28T09:06:56.288559",
     "status": "completed"
    },
    "tags": []
   },
   "outputs": [
    {
     "name": "stdout",
     "output_type": "stream",
     "text": [
      "========== 0 :\n",
      "Out: torch.Size([60, 10])\n",
      "Prediction: torch.Size([60])\n",
      "Correct: 8\n",
      "Total: 60\n",
      "\n",
      "\n",
      "========== 1 :\n",
      "Out: torch.Size([60, 10])\n",
      "Prediction: torch.Size([60])\n",
      "Correct: 14\n",
      "Total: 120\n",
      "\n",
      "\n",
      "========== 2 :\n",
      "Out: torch.Size([60, 10])\n",
      "Prediction: torch.Size([60])\n",
      "Correct: 21\n",
      "Total: 180\n",
      "Average Accuracy after 3 iterations: 0.11666666666666667\n"
     ]
    }
   ],
   "source": [
    "# Instantiate 2 variables for total cases and correct cases\n",
    "correct_cases = 0\n",
    "total_cases = 0\n",
    "\n",
    "# Sets the module in evaluation mode (VERY IMPORTANT)\n",
    "model_example.eval()\n",
    "\n",
    "for k, (images, labels) in enumerate(train_loader):\n",
    "    # Just show first 3 batches accuracy\n",
    "    if k >= 3: break\n",
    "    \n",
    "    print('==========', k, ':')\n",
    "    out = model_example(images)\n",
    "    print('Out:', out.shape)\n",
    "    \n",
    "    # Choose maximum probability and then select only the label (not the prob number)\n",
    "    prediction = out.max(dim = 1)[1]\n",
    "    print('Prediction:', prediction.shape)\n",
    "    \n",
    "    # Number of correct cases - we first see how many are correct in the batch\n",
    "            # then we sum, then convert to integer (not tensor)\n",
    "    correct_cases += (prediction == labels).sum().item()\n",
    "    print('Correct:', correct_cases)\n",
    "    \n",
    "    # Total cases\n",
    "    total_cases += images.shape[0]\n",
    "    print('Total:', total_cases)\n",
    "    \n",
    "    \n",
    "    if k < 2: print('\\n')\n",
    "        \n",
    "\n",
    "print('Average Accuracy after 3 iterations:', correct_cases/total_cases)"
   ]
  },
  {
   "cell_type": "markdown",
   "id": "operating-modern",
   "metadata": {
    "papermill": {
     "duration": 0.034764,
     "end_time": "2021-05-28T09:06:56.436360",
     "exception": false,
     "start_time": "2021-05-28T09:06:56.401596",
     "status": "completed"
    },
    "tags": []
   },
   "source": [
    "## 5.3 Iterations vs Epochs:\n",
    "\n",
    "**Iterations**: number of iterations is the number of times we *update* the weights (parameters) of the FNN. For example, above we did 3 iterations.\n",
    "\n",
    "**Epoch**: number of times *all* training data was used once to update the parameters. This is used because, in general, we would want to train the network for longer. Until now in this notebook we haven't completed yet a full epoch.\n",
    "\n",
    "## 5.4 Predefined Functions: Accuracy and Training Loop\n",
    "Now let's create some functions, so our trainin process will become easier:\n",
    "\n",
    "### 5.4.1 Predefined Accuracy Function:"
   ]
  },
  {
   "cell_type": "code",
   "execution_count": 14,
   "id": "designed-window",
   "metadata": {
    "execution": {
     "iopub.execute_input": "2021-05-28T09:06:56.512286Z",
     "iopub.status.busy": "2021-05-28T09:06:56.511548Z",
     "iopub.status.idle": "2021-05-28T09:06:56.514769Z",
     "shell.execute_reply": "2021-05-28T09:06:56.515358Z",
     "shell.execute_reply.started": "2021-05-28T07:16:57.883627Z"
    },
    "papermill": {
     "duration": 0.044148,
     "end_time": "2021-05-28T09:06:56.515520",
     "exception": false,
     "start_time": "2021-05-28T09:06:56.471372",
     "status": "completed"
    },
    "tags": []
   },
   "outputs": [],
   "source": [
    "def get_accuracy(model, data, batchSize = 20):\n",
    "    '''Iterates through data and returnes average accuracy per batch.'''\n",
    "    # Sets the model in evaluation mode\n",
    "    model.eval()\n",
    "    \n",
    "    # Creates the dataloader\n",
    "    data_loader = torch.utils.data.DataLoader(data, batch_size=batchSize)\n",
    "    \n",
    "    correct_cases = 0\n",
    "    total_cases = 0\n",
    "    \n",
    "    for (images, labels) in iter(data_loader):\n",
    "        # Is formed by 20 images (by default) with 10 probabilities each\n",
    "        out = model(images)\n",
    "        # Choose maximum probability and then select only the label (not the prob number)\n",
    "        prediction = out.max(dim = 1)[1]\n",
    "        # First check how many are correct in the batch, then we sum then convert to integer (not tensor)\n",
    "        correct_cases += (prediction == labels).sum().item()\n",
    "        # Total cases\n",
    "        total_cases += images.shape[0]\n",
    "    \n",
    "    return correct_cases / total_cases"
   ]
  },
  {
   "cell_type": "code",
   "execution_count": 15,
   "id": "polar-planet",
   "metadata": {
    "execution": {
     "iopub.execute_input": "2021-05-28T09:06:56.591310Z",
     "iopub.status.busy": "2021-05-28T09:06:56.589872Z",
     "iopub.status.idle": "2021-05-28T09:07:02.673303Z",
     "shell.execute_reply": "2021-05-28T09:07:02.672872Z",
     "shell.execute_reply.started": "2021-05-28T07:18:28.73243Z"
    },
    "papermill": {
     "duration": 6.122612,
     "end_time": "2021-05-28T09:07:02.673427",
     "exception": false,
     "start_time": "2021-05-28T09:06:56.550815",
     "status": "completed"
    },
    "tags": []
   },
   "outputs": [
    {
     "data": {
      "text/plain": [
       "0.11248333333333334"
      ]
     },
     "execution_count": 15,
     "metadata": {},
     "output_type": "execute_result"
    }
   ],
   "source": [
    "get_accuracy(model_example,mnist_train,20)"
   ]
  },
  {
   "cell_type": "markdown",
   "id": "organizational-burden",
   "metadata": {
    "papermill": {
     "duration": 0.035587,
     "end_time": "2021-05-28T09:07:02.744260",
     "exception": false,
     "start_time": "2021-05-28T09:07:02.708673",
     "status": "completed"
    },
    "tags": []
   },
   "source": [
    "### 6.4.2 Predefined Training Function\n",
    "\n",
    "<img src='https://i.imgur.com/S1miUl0.png' width=600>"
   ]
  },
  {
   "cell_type": "code",
   "execution_count": 16,
   "id": "polar-compilation",
   "metadata": {
    "execution": {
     "iopub.execute_input": "2021-05-28T09:07:02.827162Z",
     "iopub.status.busy": "2021-05-28T09:07:02.826519Z",
     "iopub.status.idle": "2021-05-28T09:07:02.829023Z",
     "shell.execute_reply": "2021-05-28T09:07:02.829419Z",
     "shell.execute_reply.started": "2021-05-28T07:19:21.152239Z"
    },
    "papermill": {
     "duration": 0.050156,
     "end_time": "2021-05-28T09:07:02.829543",
     "exception": false,
     "start_time": "2021-05-28T09:07:02.779387",
     "status": "completed"
    },
    "tags": []
   },
   "outputs": [],
   "source": [
    "def train_network(model, train_data, test_data, batchSize=20, num_epochs=1, learning_rate=0.01, weight_decay=0,\n",
    "                 show_plot = True, show_acc = True):\n",
    "    \n",
    "    '''Trains the model and computes the average accuracy for train and test data.\n",
    "    If enabled, it also shows the loss and accuracy over the iterations.'''\n",
    "    \n",
    "    print('Get data ready...')\n",
    "    # Create dataloader for training dataset - so we can train on multiple batches\n",
    "    # Shuffle after every epoch\n",
    "    train_loader = torch.utils.data.DataLoader(dataset=train_data, batch_size=batchSize, shuffle=True)\n",
    "    \n",
    "    # Create criterion and optimizer\n",
    "    criterion = nn.CrossEntropyLoss()\n",
    "    optimizer = optim.SGD(model.parameters(), lr=learning_rate, momentum=0.9, weight_decay=weight_decay)\n",
    "    \n",
    "    # Losses & Iterations: to keep all losses during training (for plotting)\n",
    "    losses = []\n",
    "    iterations = []\n",
    "    # Train and test accuracies: to keep their values also (for plotting)\n",
    "    train_acc = []\n",
    "    test_acc = []\n",
    "    \n",
    "    print('Training started...')\n",
    "    iteration = 0\n",
    "    # Train the data multiple times\n",
    "    for epoch in range(num_epochs):\n",
    "        \n",
    "        for images, labels in iter(train_loader):\n",
    "            # Set model in training mode:\n",
    "            model.train()\n",
    "            \n",
    "            # Create log probabilities\n",
    "            out = model(images)\n",
    "            # Clears the gradients from previous iteration\n",
    "            optimizer.zero_grad()\n",
    "            # Computes loss: how far is the prediction from the actual?\n",
    "            loss = criterion(out, labels)\n",
    "            # Computes gradients for neurons\n",
    "            loss.backward()\n",
    "            # Updates the weights\n",
    "            optimizer.step()\n",
    "            \n",
    "            # Save information after this iteration\n",
    "            iterations.append(iteration)\n",
    "            iteration += 1\n",
    "            losses.append(loss)\n",
    "            # Compute accuracy after this epoch and save\n",
    "            train_acc.append(get_accuracy(model, train_data))\n",
    "            test_acc.append(get_accuracy(model, test_data))\n",
    "            \n",
    "    \n",
    "    # Show Accuracies\n",
    "    # Show the last accuracy registered\n",
    "    if show_acc:\n",
    "        print(\"Final Training Accuracy: {}\".format(train_acc[-1]))\n",
    "        print(\"Final Testing Accuracy: {}\".format(test_acc[-1]))\n",
    "    \n",
    "    # Create plots\n",
    "    if show_plot:\n",
    "        plt.figure(figsize=(10,4))\n",
    "        plt.subplot(1,2,1)\n",
    "        plt.title(\"Loss Curve\")\n",
    "        plt.plot(iterations[::20], losses[::20], label=\"Train\", linewidth=4, color='#008C76FF')\n",
    "        plt.xlabel(\"Iterations\")\n",
    "        plt.ylabel(\"Loss\")\n",
    "\n",
    "        plt.subplot(1,2,2)\n",
    "        plt.title(\"Accuracy Curve\")\n",
    "        plt.plot(iterations[::20], train_acc[::20], label=\"Train\", linewidth=4, color='#9ED9CCFF')\n",
    "        plt.plot(iterations[::20], test_acc[::20], label=\"Test\", linewidth=4, color='#FAA094FF')\n",
    "        plt.xlabel(\"Iterations\")\n",
    "        plt.ylabel(\"Accuracy\")\n",
    "        plt.legend(loc='best')\n",
    "        plt.show()"
   ]
  },
  {
   "cell_type": "markdown",
   "id": "removed-company",
   "metadata": {
    "papermill": {
     "duration": 0.034893,
     "end_time": "2021-05-28T09:07:02.899777",
     "exception": false,
     "start_time": "2021-05-28T09:07:02.864884",
     "status": "completed"
    },
    "tags": []
   },
   "source": [
    "# 6. Model Evaluation\n",
    "\n",
    "Now that we have our functions ready, we can start training on the ENTIRE dataset.\n",
    "\n",
    "But first, to make the training faster, we will:\n",
    "* select 600 training images and 400 testing images\n",
    "* `batch_size` will be by default set to 20 images/batch\n",
    "* we'll iterate through the data 200 times (`num_epochs`=200)"
   ]
  },
  {
   "cell_type": "code",
   "execution_count": 17,
   "id": "mathematical-logging",
   "metadata": {
    "execution": {
     "iopub.execute_input": "2021-05-28T09:07:02.976672Z",
     "iopub.status.busy": "2021-05-28T09:07:02.975418Z",
     "iopub.status.idle": "2021-05-28T09:09:07.238628Z",
     "shell.execute_reply": "2021-05-28T09:09:07.239552Z",
     "shell.execute_reply.started": "2021-05-28T07:27:07.03058Z"
    },
    "papermill": {
     "duration": 124.304317,
     "end_time": "2021-05-28T09:09:07.239775",
     "exception": false,
     "start_time": "2021-05-28T09:07:02.935458",
     "status": "completed"
    },
    "tags": []
   },
   "outputs": [
    {
     "name": "stdout",
     "output_type": "stream",
     "text": [
      "Get data ready...\n",
      "Training started...\n",
      "Final Training Accuracy: 1.0\n",
      "Final Testing Accuracy: 0.815\n"
     ]
    },
    {
     "data": {
      "image/png": "[encoded data removed]",
      "text/plain": [
       "<Figure size 720x288 with 2 Axes>"
      ]
     },
     "metadata": {
      "needs_background": "light"
     },
     "output_type": "display_data"
    }
   ],
   "source": [
    "mnist_data = datasets.MNIST(\"data\", train=True, download=True, transform = transforms.ToTensor())\n",
    "mnist_data = list(mnist_data)\n",
    "\n",
    "mnist_train = mnist_data[:600]   # 600 images for training \n",
    "mnist_test = mnist_data[600:1000]  # 400 images for testing\n",
    "\n",
    "model = MNISTClassifier()\n",
    "\n",
    "# train the model using above function(predefined)\n",
    "train_network(model, mnist_train, mnist_test, num_epochs=200)"
   ]
  },
  {
   "cell_type": "markdown",
   "id": "unknown-carbon",
   "metadata": {
    "papermill": {
     "duration": 0.060014,
     "end_time": "2021-05-28T09:09:07.361430",
     "exception": false,
     "start_time": "2021-05-28T09:09:07.301416",
     "status": "completed"
    },
    "tags": []
   },
   "source": [
    "# 7. Overfitting\n",
    "\n",
    "As any other Machine Learning Model, Neural Nets can suffer from overfitting. Overfitting is when a neural network model learns about the quirks of the training data, rather than information that is generalizable to the task at hand.\n",
    "\n",
    "## 7.1 Data Augmentation\n",
    "Why try to collect more data when you can create some on your own? *Data Augmentation* generates more data points from our existing data set by:\n",
    "* Flipping each image horizontally or vertically (won't work for digit recognition, but might for other tasks)\n",
    "* Shifting each pixel a little to the left or right\n",
    "* Rotating the images a little\n",
    "* Adding noise to the image\n",
    "\n",
    "<img src='https://www.kdnuggets.com/wp-content/uploads/cats-data-augmentation.jpg' width='400'>\n",
    "\n",
    "For our example we'll rotate the images randomly up to 35 degrees."
   ]
  },
  {
   "cell_type": "code",
   "execution_count": 18,
   "id": "different-blond",
   "metadata": {
    "execution": {
     "iopub.execute_input": "2021-05-28T09:09:07.487695Z",
     "iopub.status.busy": "2021-05-28T09:09:07.486090Z",
     "iopub.status.idle": "2021-05-28T09:09:07.488378Z",
     "shell.execute_reply": "2021-05-28T09:09:07.488776Z",
     "shell.execute_reply.started": "2021-05-28T07:35:13.205269Z"
    },
    "papermill": {
     "duration": 0.071137,
     "end_time": "2021-05-28T09:09:07.488910",
     "exception": false,
     "start_time": "2021-05-28T09:09:07.417773",
     "status": "completed"
    },
    "tags": []
   },
   "outputs": [],
   "source": [
    "# Predefined Function that shows 20 images\n",
    "def show_image(data, title=\"Default\"):\n",
    "    plt.figure(figsize=(10,2))\n",
    "    for i,(image, label) in enumerate(data):\n",
    "        if i>=20:\n",
    "            break\n",
    "        plt.subplot(2,10,i+1)\n",
    "        plt.imshow(image)\n",
    "        plt.suptitle(title, fontsize=15)"
   ]
  },
  {
   "cell_type": "code",
   "execution_count": 19,
   "id": "aggressive-jacksonville",
   "metadata": {
    "execution": {
     "iopub.execute_input": "2021-05-28T09:09:07.567733Z",
     "iopub.status.busy": "2021-05-28T09:09:07.566893Z",
     "iopub.status.idle": "2021-05-28T09:09:10.171689Z",
     "shell.execute_reply": "2021-05-28T09:09:10.172086Z",
     "shell.execute_reply.started": "2021-05-28T07:39:25.114229Z"
    },
    "papermill": {
     "duration": 2.646106,
     "end_time": "2021-05-28T09:09:10.172246",
     "exception": false,
     "start_time": "2021-05-28T09:09:07.526140",
     "status": "completed"
    },
    "tags": []
   },
   "outputs": [
    {
     "data": {
      "image/png": "[encoded data removed]",
      "text/plain": [
       "<Figure size 720x144 with 20 Axes>"
      ]
     },
     "metadata": {
      "needs_background": "light"
     },
     "output_type": "display_data"
    },
    {
     "data": {
      "image/png": "[encoded data removed]",
      "text/plain": [
       "<Figure size 720x144 with 20 Axes>"
      ]
     },
     "metadata": {
      "needs_background": "light"
     },
     "output_type": "display_data"
    }
   ],
   "source": [
    "# creating original and rotated images\n",
    "original_images = datasets.MNIST(\"data\", train=True, download=True)\n",
    "rotated_images = datasets.MNIST(\"data\", train=True, \n",
    "                                download=True, transform = transforms.RandomRotation(35,fill=(0,)))\n",
    "# show images\n",
    "show_image(original_images,\"Original\")\n",
    "show_image(rotated_images, \"Rotated\")"
   ]
  },
  {
   "cell_type": "markdown",
   "id": "systematic-twins",
   "metadata": {
    "papermill": {
     "duration": 0.038909,
     "end_time": "2021-05-28T09:09:10.250748",
     "exception": false,
     "start_time": "2021-05-28T09:09:10.211839",
     "status": "completed"
    },
    "tags": []
   },
   "source": [
    "### 7.1.1 Training on Augmented Data:\n",
    "\n",
    "* `transforms.Normalize()`: means to scale the input features of a neural network, so that all features are scaled similarly. For images is not really necessary, as they all have the same structure, but I threw it here just for reference."
   ]
  },
  {
   "cell_type": "code",
   "execution_count": 20,
   "id": "public-impact",
   "metadata": {
    "execution": {
     "iopub.execute_input": "2021-05-28T09:09:10.368041Z",
     "iopub.status.busy": "2021-05-28T09:09:10.367168Z",
     "iopub.status.idle": "2021-05-28T09:11:24.033531Z",
     "shell.execute_reply": "2021-05-28T09:11:24.033075Z",
     "shell.execute_reply.started": "2021-05-28T07:53:54.930599Z"
    },
    "papermill": {
     "duration": 133.740175,
     "end_time": "2021-05-28T09:11:24.033670",
     "exception": false,
     "start_time": "2021-05-28T09:09:10.293495",
     "status": "completed"
    },
    "tags": []
   },
   "outputs": [
    {
     "name": "stdout",
     "output_type": "stream",
     "text": [
      "Get data ready...\n",
      "Training started...\n",
      "Final Training Accuracy: 1.0\n",
      "Final Testing Accuracy: 0.6225\n"
     ]
    },
    {
     "data": {
      "image/png": "[encoded data removed]",
      "text/plain": [
       "<Figure size 720x288 with 2 Axes>"
      ]
     },
     "metadata": {
      "needs_background": "light"
     },
     "output_type": "display_data"
    }
   ],
   "source": [
    "# transform\n",
    "mytransform = transforms.Compose([transforms.RandomRotation(35, fill=(0,)),\n",
    "                                 transforms.ToTensor(),\n",
    "                                 transforms.Normalize([0.5], [0.5])])\n",
    "# import mnist data and apply transformations\n",
    "mnist_data_aug = datasets.MNIST(\"data\", train=True, download=True, transform=mytransform)\n",
    "mnist_data_aug = list(mnist_data_aug)\n",
    "\n",
    "# training data\n",
    "mnist_train_aug = mnist_data_aug[:600]  # 600 augmented images for training\n",
    "\n",
    "# ------ Training the model ------\n",
    "# Create Model Instance\n",
    "model_aug = MNISTClassifier()\n",
    "\n",
    "# train the network\n",
    "train_network(model_aug, mnist_train_aug, mnist_test, num_epochs=200)"
   ]
  },
  {
   "cell_type": "markdown",
   "id": "electoral-conjunction",
   "metadata": {
    "papermill": {
     "duration": 0.040591,
     "end_time": "2021-05-28T09:11:24.114874",
     "exception": false,
     "start_time": "2021-05-28T09:11:24.074283",
     "status": "completed"
    },
    "tags": []
   },
   "source": [
    "## 7.2 Weight Decay and Learning Rate\n",
    "\n",
    "**Weight Decay**: The idea of weight decay is to *penalize large weights*. Large weights mean that the prediction relies heavily on the content of one or multiple pixels. So, we penalize them by adding and extra term to the `criterion` function.\n",
    "\n",
    "**Learning Rate**: This one is probably not new. In FNNs we train using gradient descent to update the weights. The learning rate *controls* [how much to change the model in response to the estimated error each time the model weights are updated](https://machinelearningmastery.com/understand-the-dynamics-of-learning-rate-on-deep-learning-neural-networks/). If we choose a lr too large we might overshoot the local minima, while using a lr too small we might wait longer for the model to train, as the steps are tinier.\n",
    "\n",
    "<img src='https://srdas.github.io/DLBook/DL_images/TNN2.png' width='400'>"
   ]
  },
  {
   "cell_type": "code",
   "execution_count": 21,
   "id": "innocent-stage",
   "metadata": {
    "execution": {
     "iopub.execute_input": "2021-05-28T09:11:24.239939Z",
     "iopub.status.busy": "2021-05-28T09:11:24.238631Z",
     "iopub.status.idle": "2021-05-28T09:13:42.725827Z",
     "shell.execute_reply": "2021-05-28T09:13:42.726263Z",
     "shell.execute_reply.started": "2021-05-28T07:58:19.5434Z"
    },
    "papermill": {
     "duration": 138.57099,
     "end_time": "2021-05-28T09:13:42.726421",
     "exception": false,
     "start_time": "2021-05-28T09:11:24.155431",
     "status": "completed"
    },
    "tags": []
   },
   "outputs": [
    {
     "name": "stdout",
     "output_type": "stream",
     "text": [
      "Get data ready...\n",
      "Training started...\n",
      "Final Training Accuracy: 1.0\n",
      "Final Testing Accuracy: 0.8125\n"
     ]
    },
    {
     "data": {
      "image/png": "[encoded data removed]",
      "text/plain": [
       "<Figure size 720x288 with 2 Axes>"
      ]
     },
     "metadata": {
      "needs_background": "light"
     },
     "output_type": "display_data"
    }
   ],
   "source": [
    "model2 = MNISTClassifier()\n",
    "\n",
    "#train the network\n",
    "train_network(model2, mnist_train, mnist_test, num_epochs=220, learning_rate=0.001, weight_decay=0.0005)"
   ]
  },
  {
   "cell_type": "markdown",
   "id": "duplicate-nightlife",
   "metadata": {
    "papermill": {
     "duration": 0.042966,
     "end_time": "2021-05-28T09:13:42.811706",
     "exception": false,
     "start_time": "2021-05-28T09:13:42.768740",
     "status": "completed"
    },
    "tags": []
   },
   "source": [
    "## 7.3 Dropout() and Layer Optimization\n",
    "\n",
    "### 7.3.1 Dropout() Function\n",
    "This technique builds *many* models and then averages their prediction at test time (this is why it is very important to call `model.eval()` when we want to evaluate).\n",
    "\n",
    "For each model we **dropout** (drop out, zero out, remove etc.) a portion of neurons from each training iteration. Hence, in different iterations of training, we will drop out a different set of neurons.\n",
    "\n",
    "This way we prevent the weight from being overly dependent on eachother: for example for one weight to be unnecessarily large to compensate for another unnecessarily large weight with the opposite sign. In other words, weights are encouraged to be *strong and independent*.\n",
    "<img src='https://miro.medium.com/max/1200/1*iWQzxhVlvadk6VAJjsgXgg.png' width=400>\n",
    "\n",
    "\n",
    "### 7.3.2 Layer Optimization\n",
    "Our `MNISTClassifier()` had until now 3 layers with a fixed number on neurons in each layer. We can change that by making it changable during training, so eventually we can apply `Grid Search` and find the best combination possible.\n",
    "\n",
    "### 7.3.3 Changing the Structure of our MNISTClassifier()\n",
    "Now let's change our Neural Net a bit:\n",
    "* `nn.Dropout(p=0.4)`: each neuron has 40% chance of being dropped\n",
    "* `layer1_size`: size of the first hidden layer\n",
    "* `layer2_size`: size of the second hidden layer"
   ]
  },
  {
   "cell_type": "code",
   "execution_count": 22,
   "id": "introductory-responsibility",
   "metadata": {
    "execution": {
     "iopub.execute_input": "2021-05-28T09:13:42.919802Z",
     "iopub.status.busy": "2021-05-28T09:13:42.919080Z",
     "iopub.status.idle": "2021-05-28T09:13:42.921976Z",
     "shell.execute_reply": "2021-05-28T09:13:42.922359Z",
     "shell.execute_reply.started": "2021-05-28T08:41:13.034418Z"
    },
    "papermill": {
     "duration": 0.067861,
     "end_time": "2021-05-28T09:13:42.922499",
     "exception": false,
     "start_time": "2021-05-28T09:13:42.854638",
     "status": "completed"
    },
    "tags": []
   },
   "outputs": [],
   "source": [
    "class MNIST_Classifier_Improved(nn.Module):\n",
    "    def __init__(self, layer1_size=50, layer2_size=20, dropout=0.4):    #structure of FNN\n",
    "        super(MNIST_Classifier_Improved, self).__init__()\n",
    "        \n",
    "        self.layers = nn.Sequential(nn.Dropout(p= dropout),       #dropout for first layer\n",
    "                      nn.Linear(28*28, layer1_size),              # 784 neurons to 50\n",
    "                      nn.ReLU(),                                  # activation functino\n",
    "                      nn.Dropout(p=dropout),                      # Dropout for second layer\n",
    "                      nn.Linear(layer1_size, layer2_size),        # Second layer: 50 neurons to 20\n",
    "                      nn.ReLU(),                                  # activation function\n",
    "                      nn.Dropout(p=dropout),                      # dropout for output layer\n",
    "                      nn.Linear(layer2_size, 10))                 # output layer\n",
    "         \n",
    "    def forward(self, image):              # taking image through NN                       \n",
    "        image= image.view(-1, 28*28)       # Flatten image (Matrix to Vector)\n",
    "        out = self.layers(image)           #  log probabilities output\n",
    "        \n",
    "        return out"
   ]
  },
  {
   "cell_type": "markdown",
   "id": "incorrect-stack",
   "metadata": {
    "papermill": {
     "duration": 0.042581,
     "end_time": "2021-05-28T09:13:43.008167",
     "exception": false,
     "start_time": "2021-05-28T09:13:42.965586",
     "status": "completed"
    },
    "tags": []
   },
   "source": [
    "#### Improved Model Structure:\n",
    "<img src='https://i.imgur.com/m22zEqN.png' width='600'>"
   ]
  },
  {
   "cell_type": "code",
   "execution_count": 23,
   "id": "potential-driving",
   "metadata": {
    "execution": {
     "iopub.execute_input": "2021-05-28T09:13:43.097789Z",
     "iopub.status.busy": "2021-05-28T09:13:43.096993Z",
     "iopub.status.idle": "2021-05-28T09:16:22.991805Z",
     "shell.execute_reply": "2021-05-28T09:16:22.991370Z",
     "shell.execute_reply.started": "2021-05-28T08:44:44.623053Z"
    },
    "papermill": {
     "duration": 159.941515,
     "end_time": "2021-05-28T09:16:22.991938",
     "exception": false,
     "start_time": "2021-05-28T09:13:43.050423",
     "status": "completed"
    },
    "tags": []
   },
   "outputs": [
    {
     "name": "stdout",
     "output_type": "stream",
     "text": [
      "MNIST_Classifier_Improved(\n",
      "  (layers): Sequential(\n",
      "    (0): Dropout(p=0.5, inplace=False)\n",
      "    (1): Linear(in_features=784, out_features=80, bias=True)\n",
      "    (2): ReLU()\n",
      "    (3): Dropout(p=0.5, inplace=False)\n",
      "    (4): Linear(in_features=80, out_features=50, bias=True)\n",
      "    (5): ReLU()\n",
      "    (6): Dropout(p=0.5, inplace=False)\n",
      "    (7): Linear(in_features=50, out_features=10, bias=True)\n",
      "  )\n",
      ") \n",
      "\n",
      "Get data ready...\n",
      "Training started...\n",
      "Final Training Accuracy: 0.9833333333333333\n",
      "Final Testing Accuracy: 0.8525\n"
     ]
    },
    {
     "data": {
      "image/png": "[encoded data removed]",
      "text/plain": [
       "<Figure size 720x288 with 2 Axes>"
      ]
     },
     "metadata": {
      "needs_background": "light"
     },
     "output_type": "display_data"
    }
   ],
   "source": [
    "# Training Improved model now:\n",
    "model_improved = MNIST_Classifier_Improved(layer1_size=80, layer2_size=50, dropout=0.5)\n",
    "print(model_improved,\"\\n\")\n",
    "\n",
    "train_network(model_improved, mnist_train, mnist_test,num_epochs=220,learning_rate=0.001,weight_decay=0.0005)"
   ]
  },
  {
   "cell_type": "code",
   "execution_count": 24,
   "id": "atlantic-republic",
   "metadata": {
    "execution": {
     "iopub.execute_input": "2021-05-28T09:16:23.097090Z",
     "iopub.status.busy": "2021-05-28T09:16:23.096100Z",
     "iopub.status.idle": "2021-05-28T09:16:23.107963Z",
     "shell.execute_reply": "2021-05-28T09:16:23.108350Z",
     "shell.execute_reply.started": "2021-05-28T08:50:35.237977Z"
    },
    "papermill": {
     "duration": 0.071009,
     "end_time": "2021-05-28T09:16:23.108489",
     "exception": false,
     "start_time": "2021-05-28T09:16:23.037480",
     "status": "completed"
    },
    "tags": []
   },
   "outputs": [
    {
     "data": {
      "text/plain": [
       "0.9833333333333333"
      ]
     },
     "execution_count": 24,
     "metadata": {},
     "output_type": "execute_result"
    }
   ],
   "source": [
    "get_accuracy(model_improved, mnist_train,64)"
   ]
  },
  {
   "cell_type": "markdown",
   "id": "gorgeous-claim",
   "metadata": {
    "papermill": {
     "duration": 0.044326,
     "end_time": "2021-05-28T09:16:23.197324",
     "exception": false,
     "start_time": "2021-05-28T09:16:23.152998",
     "status": "completed"
    },
    "tags": []
   },
   "source": [
    "# 8. Confusion Matrix"
   ]
  },
  {
   "cell_type": "code",
   "execution_count": 25,
   "id": "reliable-performer",
   "metadata": {
    "execution": {
     "iopub.execute_input": "2021-05-28T09:16:23.292277Z",
     "iopub.status.busy": "2021-05-28T09:16:23.291469Z",
     "iopub.status.idle": "2021-05-28T09:16:23.294035Z",
     "shell.execute_reply": "2021-05-28T09:16:23.293645Z",
     "shell.execute_reply.started": "2021-05-28T08:49:28.983668Z"
    },
    "papermill": {
     "duration": 0.052348,
     "end_time": "2021-05-28T09:16:23.294161",
     "exception": false,
     "start_time": "2021-05-28T09:16:23.241813",
     "status": "completed"
    },
    "tags": []
   },
   "outputs": [],
   "source": [
    "def get_confusion_matrix(model, test_data):\n",
    "    # First we make sure we disable Gradient Computing\n",
    "    torch.no_grad()\n",
    "    \n",
    "    # Model in Evaluation Mode\n",
    "    model.eval()\n",
    "    \n",
    "    preds, actuals = [], []\n",
    "\n",
    "    for image, label in mnist_test:\n",
    "        # Add 1 more dimension for batching\n",
    "        image = image.unsqueeze(0)\n",
    "        out = model_improved(image)\n",
    "\n",
    "        prediction = torch.max(out, dim=1)[1].item()\n",
    "        preds.append(prediction)\n",
    "        actuals.append(label)\n",
    "    \n",
    "    return sklearn.metrics.confusion_matrix(preds, actuals)"
   ]
  },
  {
   "cell_type": "code",
   "execution_count": 26,
   "id": "major-personality",
   "metadata": {
    "execution": {
     "iopub.execute_input": "2021-05-28T09:16:23.387437Z",
     "iopub.status.busy": "2021-05-28T09:16:23.386869Z",
     "iopub.status.idle": "2021-05-28T09:16:24.013743Z",
     "shell.execute_reply": "2021-05-28T09:16:24.014154Z",
     "shell.execute_reply.started": "2021-05-28T08:53:53.688856Z"
    },
    "papermill": {
     "duration": 0.675879,
     "end_time": "2021-05-28T09:16:24.014319",
     "exception": false,
     "start_time": "2021-05-28T09:16:23.338440",
     "status": "completed"
    },
    "tags": []
   },
   "outputs": [
    {
     "data": {
      "text/plain": [
       "Text(0.5, 1.0, 'Confusion Matrix')"
      ]
     },
     "execution_count": 26,
     "metadata": {},
     "output_type": "execute_result"
    },
    {
     "data": {
      "image/png": "[encoded data removed]",
      "text/plain": [
       "<Figure size 1152x432 with 2 Axes>"
      ]
     },
     "metadata": {
      "needs_background": "light"
     },
     "output_type": "display_data"
    }
   ],
   "source": [
    "plt.figure(figsize=(16,6))\n",
    "sns.heatmap(get_confusion_matrix(model_improved, mnist_test), cmap=\"icefire\", annot=True, linewidths=0.1)\n",
    "plt.title(\"Confusion Matrix\", fontsize=14)"
   ]
  },
  {
   "cell_type": "markdown",
   "id": "loved-person",
   "metadata": {
    "papermill": {
     "duration": 0.047192,
     "end_time": "2021-05-28T09:16:24.110759",
     "exception": false,
     "start_time": "2021-05-28T09:16:24.063567",
     "status": "completed"
    },
    "tags": []
   },
   "source": [
    "If you have any questions, please do not hesitate to ask. This notebook is made to bring more clear understanding of concepts and coding, so this would also help me add, modify and improve it. \n",
    "\n",
    "<div class=\"alert alert-block alert-warning\"> \n",
    "<p>If you liked this, upvote!</p>\n",
    "<p>Cheers!</p>\n",
    "</div>"
   ]
  },
  {
   "cell_type": "markdown",
   "id": "racial-louis",
   "metadata": {
    "papermill": {
     "duration": 0.045561,
     "end_time": "2021-05-28T09:16:24.202208",
     "exception": false,
     "start_time": "2021-05-28T09:16:24.156647",
     "status": "completed"
    },
    "tags": []
   },
   "source": [
    "# References:\n",
    "* [Andrada Olteanu](https://www.kaggle.com/andradaolteanu)\n",
    "* [Create your own FNN](http://alexlenail.me/NN-SVG/index.html)\n",
    "* [WTF is a Tensor?](https://www.kdnuggets.com/2018/05/wtf-tensor.html)\n",
    "* [What the hell is a Perceptron?](https://towardsdatascience.com/what-the-hell-is-perceptron-626217814f53)\n",
    "* 3Blue1Brown videos:\n",
    "    * [But what is a Neural Network?](https://www.youtube.com/watch?v=aircAruvnKk&t=1007s)\n",
    "    * [What is Backpropagation really doing?](https://www.youtube.com/watch?v=Ilg3gGewQ5U&list=PLZHQObOWTQDNU6R1_67000Dx_ZCJB-3pi&index=3)\n",
    "    * [Gradient Descent, how Neural Networks learn](https://www.youtube.com/watch?v=IHZwWFHWa-w)\n",
    "* [All `torch.` functions (including loss & optimizer functions)](https://pytorch.org/docs/stable/nn.html)\n",
    "* [Impact of Learning Rate in NNs](https://machinelearningmastery.com/understand-the-dynamics-of-learning-rate-on-deep-learning-neural-networks/)"
   ]
  }
 ],
 "metadata": {
  "kernelspec": {
   "display_name": "Python 3",
   "language": "python",
   "name": "python3"
  },
  "language_info": {
   "codemirror_mode": {
    "name": "ipython",
    "version": 3
   },
   "file_extension": ".py",
   "mimetype": "text/x-python",
   "name": "python",
   "nbconvert_exporter": "python",
   "pygments_lexer": "ipython3",
   "version": "3.7.10"
  },
  "papermill": {
   "default_parameters": {},
   "duration": 932.91676,
   "end_time": "2021-05-28T09:16:25.653680",
   "environment_variables": {},
   "exception": null,
   "input_path": "__notebook__.ipynb",
   "output_path": "__notebook__.ipynb",
   "parameters": {},
   "start_time": "2021-05-28T09:00:52.736920",
   "version": "2.3.3"
  },
  "widgets": {
   "application/vnd.jupyter.widget-state+json": {
    "state": {
     "0202c171d81f4b9d8ca1c666fbb52271": {
      "model_module": "@jupyter-widgets/base",
      "model_module_version": "1.2.0",
      "model_name": "LayoutModel",
      "state": {
       "_model_module": "@jupyter-widgets/base",
       "_model_module_version": "1.2.0",
       "_model_name": "LayoutModel",
       "_view_count": null,
       "_view_module": "@jupyter-widgets/base",
       "_view_module_version": "1.2.0",
       "_view_name": "LayoutView",
       "align_content": null,
       "align_items": null,
       "align_self": null,
       "border": null,
       "bottom": null,
       "display": null,
       "flex": null,
       "flex_flow": null,
       "grid_area": null,
       "grid_auto_columns": null,
       "grid_auto_flow": null,
       "grid_auto_rows": null,
       "grid_column": null,
       "grid_gap": null,
       "grid_row": null,
       "grid_template_areas": null,
       "grid_template_columns": null,
       "grid_template_rows": null,
       "height": null,
       "justify_content": null,
       "justify_items": null,
       "left": null,
       "margin": null,
       "max_height": null,
       "max_width": null,
       "min_height": null,
       "min_width": null,
       "object_fit": null,
       "object_position": null,
       "order": null,
       "overflow": null,
       "overflow_x": null,
       "overflow_y": null,
       "padding": null,
       "right": null,
       "top": null,
       "visibility": null,
       "width": "20px"
      }
     },
     "0d5b7ef97fb44741bd70514704136799": {
      "model_module": "@jupyter-widgets/controls",
      "model_module_version": "1.5.0",
      "model_name": "FloatProgressModel",
      "state": {
       "_dom_classes": [],
       "_model_module": "@jupyter-widgets/controls",
       "_model_module_version": "1.5.0",
       "_model_name": "FloatProgressModel",
       "_view_count": null,
       "_view_module": "@jupyter-widgets/controls",
       "_view_module_version": "1.5.0",
       "_view_name": "ProgressView",
       "bar_style": "info",
       "description": "",
       "description_tooltip": null,
       "layout": "IPY_MODEL_0202c171d81f4b9d8ca1c666fbb52271",
       "max": 1.0,
       "min": 0.0,
       "orientation": "horizontal",
       "style": "IPY_MODEL_9bfbef55b1634322bae8b5aecea207c8",
       "value": 1.0
      }
     },
     "1645ee6ebbf442cc8e7ed1b8d9adc6f4": {
      "model_module": "@jupyter-widgets/controls",
      "model_module_version": "1.5.0",
      "model_name": "DescriptionStyleModel",
      "state": {
       "_model_module": "@jupyter-widgets/controls",
       "_model_module_version": "1.5.0",
       "_model_name": "DescriptionStyleModel",
       "_view_count": null,
       "_view_module": "@jupyter-widgets/base",
       "_view_module_version": "1.2.0",
       "_view_name": "StyleView",
       "description_width": ""
      }
     },
     "2ecb95e15c984bbc9d3d3c3ef428fadb": {
      "model_module": "@jupyter-widgets/controls",
      "model_module_version": "1.5.0",
      "model_name": "DescriptionStyleModel",
      "state": {
       "_model_module": "@jupyter-widgets/controls",
       "_model_module_version": "1.5.0",
       "_model_name": "DescriptionStyleModel",
       "_view_count": null,
       "_view_module": "@jupyter-widgets/base",
       "_view_module_version": "1.2.0",
       "_view_name": "StyleView",
       "description_width": ""
      }
     },
     "3029cba50f0247689af28d44f55a33b5": {
      "model_module": "@jupyter-widgets/base",
      "model_module_version": "1.2.0",
      "model_name": "LayoutModel",
      "state": {
       "_model_module": "@jupyter-widgets/base",
       "_model_module_version": "1.2.0",
       "_model_name": "LayoutModel",
       "_view_count": null,
       "_view_module": "@jupyter-widgets/base",
       "_view_module_version": "1.2.0",
       "_view_name": "LayoutView",
       "align_content": null,
       "align_items": null,
       "align_self": null,
       "border": null,
       "bottom": null,
       "display": null,
       "flex": null,
       "flex_flow": null,
       "grid_area": null,
       "grid_auto_columns": null,
       "grid_auto_flow": null,
       "grid_auto_rows": null,
       "grid_column": null,
       "grid_gap": null,
       "grid_row": null,
       "grid_template_areas": null,
       "grid_template_columns": null,
       "grid_template_rows": null,
       "height": null,
       "justify_content": null,
       "justify_items": null,
       "left": null,
       "margin": null,
       "max_height": null,
       "max_width": null,
       "min_height": null,
       "min_width": null,
       "object_fit": null,
       "object_position": null,
       "order": null,
       "overflow": null,
       "overflow_x": null,
       "overflow_y": null,
       "padding": null,
       "right": null,
       "top": null,
       "visibility": null,
       "width": null
      }
     },
     "31389bd4eece45bebddf73df696f20cf": {
      "model_module": "@jupyter-widgets/controls",
      "model_module_version": "1.5.0",
      "model_name": "HBoxModel",
      "state": {
       "_dom_classes": [],
       "_model_module": "@jupyter-widgets/controls",
       "_model_module_version": "1.5.0",
       "_model_name": "HBoxModel",
       "_view_count": null,
       "_view_module": "@jupyter-widgets/controls",
       "_view_module_version": "1.5.0",
       "_view_name": "HBoxView",
       "box_style": "",
       "children": [
        "IPY_MODEL_c65c10dd8a4e49d9b28e743200044488",
        "IPY_MODEL_692fdbab30124ba8a5c9e2ec10e18a35",
        "IPY_MODEL_a5e5dbe1a9a3401f96eb8f986118fc30"
       ],
       "layout": "IPY_MODEL_3029cba50f0247689af28d44f55a33b5"
      }
     },
     "4a6b4488bc1d45e5ad9ca933e60faccd": {
      "model_module": "@jupyter-widgets/controls",
      "model_module_version": "1.5.0",
      "model_name": "DescriptionStyleModel",
      "state": {
       "_model_module": "@jupyter-widgets/controls",
       "_model_module_version": "1.5.0",
       "_model_name": "DescriptionStyleModel",
       "_view_count": null,
       "_view_module": "@jupyter-widgets/base",
       "_view_module_version": "1.2.0",
       "_view_name": "StyleView",
       "description_width": ""
      }
     },
     "4d84ef53c7ac4f4c929a070adf2afcfe": {
      "model_module": "@jupyter-widgets/controls",
      "model_module_version": "1.5.0",
      "model_name": "HTMLModel",
      "state": {
       "_dom_classes": [],
       "_model_module": "@jupyter-widgets/controls",
       "_model_module_version": "1.5.0",
       "_model_name": "HTMLModel",
       "_view_count": null,
       "_view_module": "@jupyter-widgets/controls",
       "_view_module_version": "1.5.0",
       "_view_name": "HTMLView",
       "description": "",
       "description_tooltip": null,
       "layout": "IPY_MODEL_f79e5b26ba2b4d87a65821697f72fb21",
       "placeholder": "​",
       "style": "IPY_MODEL_bed79f9ebd824ebc874f5d9cdbd78500",
       "value": " 9920512/? [05:10&lt;00:00, 33729.48it/s]"
      }
     },
     "50aefc23bebe4381973b751e7661cf19": {
      "model_module": "@jupyter-widgets/base",
      "model_module_version": "1.2.0",
      "model_name": "LayoutModel",
      "state": {
       "_model_module": "@jupyter-widgets/base",
       "_model_module_version": "1.2.0",
       "_model_name": "LayoutModel",
       "_view_count": null,
       "_view_module": "@jupyter-widgets/base",
       "_view_module_version": "1.2.0",
       "_view_name": "LayoutView",
       "align_content": null,
       "align_items": null,
       "align_self": null,
       "border": null,
       "bottom": null,
       "display": null,
       "flex": null,
       "flex_flow": null,
       "grid_area": null,
       "grid_auto_columns": null,
       "grid_auto_flow": null,
       "grid_auto_rows": null,
       "grid_column": null,
       "grid_gap": null,
       "grid_row": null,
       "grid_template_areas": null,
       "grid_template_columns": null,
       "grid_template_rows": null,
       "height": null,
       "justify_content": null,
       "justify_items": null,
       "left": null,
       "margin": null,
       "max_height": null,
       "max_width": null,
       "min_height": null,
       "min_width": null,
       "object_fit": null,
       "object_position": null,
       "order": null,
       "overflow": null,
       "overflow_x": null,
       "overflow_y": null,
       "padding": null,
       "right": null,
       "top": null,
       "visibility": null,
       "width": null
      }
     },
     "5687b142a3ff4a8c84504f81d76f5b2a": {
      "model_module": "@jupyter-widgets/base",
      "model_module_version": "1.2.0",
      "model_name": "LayoutModel",
      "state": {
       "_model_module": "@jupyter-widgets/base",
       "_model_module_version": "1.2.0",
       "_model_name": "LayoutModel",
       "_view_count": null,
       "_view_module": "@jupyter-widgets/base",
       "_view_module_version": "1.2.0",
       "_view_name": "LayoutView",
       "align_content": null,
       "align_items": null,
       "align_self": null,
       "border": null,
       "bottom": null,
       "display": null,
       "flex": null,
       "flex_flow": null,
       "grid_area": null,
       "grid_auto_columns": null,
       "grid_auto_flow": null,
       "grid_auto_rows": null,
       "grid_column": null,
       "grid_gap": null,
       "grid_row": null,
       "grid_template_areas": null,
       "grid_template_columns": null,
       "grid_template_rows": null,
       "height": null,
       "justify_content": null,
       "justify_items": null,
       "left": null,
       "margin": null,
       "max_height": null,
       "max_width": null,
       "min_height": null,
       "min_width": null,
       "object_fit": null,
       "object_position": null,
       "order": null,
       "overflow": null,
       "overflow_x": null,
       "overflow_y": null,
       "padding": null,
       "right": null,
       "top": null,
       "visibility": null,
       "width": null
      }
     },
     "5c86804b2aa14b5d9cf5e8c053fde67e": {
      "model_module": "@jupyter-widgets/controls",
      "model_module_version": "1.5.0",
      "model_name": "HBoxModel",
      "state": {
       "_dom_classes": [],
       "_model_module": "@jupyter-widgets/controls",
       "_model_module_version": "1.5.0",
       "_model_name": "HBoxModel",
       "_view_count": null,
       "_view_module": "@jupyter-widgets/controls",
       "_view_module_version": "1.5.0",
       "_view_name": "HBoxView",
       "box_style": "",
       "children": [
        "IPY_MODEL_8e3f8ba86dae419cb1cebf8655974ddd",
        "IPY_MODEL_60413e470512411891ecc04a58ab0fad",
        "IPY_MODEL_c06e707d44d14b4a9713359e931cd58a"
       ],
       "layout": "IPY_MODEL_f31a548c48af4e26be44f7728d9c3f1c"
      }
     },
     "60413e470512411891ecc04a58ab0fad": {
      "model_module": "@jupyter-widgets/controls",
      "model_module_version": "1.5.0",
      "model_name": "FloatProgressModel",
      "state": {
       "_dom_classes": [],
       "_model_module": "@jupyter-widgets/controls",
       "_model_module_version": "1.5.0",
       "_model_name": "FloatProgressModel",
       "_view_count": null,
       "_view_module": "@jupyter-widgets/controls",
       "_view_module_version": "1.5.0",
       "_view_name": "ProgressView",
       "bar_style": "info",
       "description": "",
       "description_tooltip": null,
       "layout": "IPY_MODEL_87ca77c9c7f64a2581b3588c8353e091",
       "max": 1.0,
       "min": 0.0,
       "orientation": "horizontal",
       "style": "IPY_MODEL_876f9ffe514349b292a99db1dc43bc1c",
       "value": 1.0
      }
     },
     "637582b490764160a27e7e1451da2857": {
      "model_module": "@jupyter-widgets/base",
      "model_module_version": "1.2.0",
      "model_name": "LayoutModel",
      "state": {
       "_model_module": "@jupyter-widgets/base",
       "_model_module_version": "1.2.0",
       "_model_name": "LayoutModel",
       "_view_count": null,
       "_view_module": "@jupyter-widgets/base",
       "_view_module_version": "1.2.0",
       "_view_name": "LayoutView",
       "align_content": null,
       "align_items": null,
       "align_self": null,
       "border": null,
       "bottom": null,
       "display": null,
       "flex": null,
       "flex_flow": null,
       "grid_area": null,
       "grid_auto_columns": null,
       "grid_auto_flow": null,
       "grid_auto_rows": null,
       "grid_column": null,
       "grid_gap": null,
       "grid_row": null,
       "grid_template_areas": null,
       "grid_template_columns": null,
       "grid_template_rows": null,
       "height": null,
       "justify_content": null,
       "justify_items": null,
       "left": null,
       "margin": null,
       "max_height": null,
       "max_width": null,
       "min_height": null,
       "min_width": null,
       "object_fit": null,
       "object_position": null,
       "order": null,
       "overflow": null,
       "overflow_x": null,
       "overflow_y": null,
       "padding": null,
       "right": null,
       "top": null,
       "visibility": null,
       "width": null
      }
     },
     "692fdbab30124ba8a5c9e2ec10e18a35": {
      "model_module": "@jupyter-widgets/controls",
      "model_module_version": "1.5.0",
      "model_name": "FloatProgressModel",
      "state": {
       "_dom_classes": [],
       "_model_module": "@jupyter-widgets/controls",
       "_model_module_version": "1.5.0",
       "_model_name": "FloatProgressModel",
       "_view_count": null,
       "_view_module": "@jupyter-widgets/controls",
       "_view_module_version": "1.5.0",
       "_view_name": "ProgressView",
       "bar_style": "info",
       "description": "",
       "description_tooltip": null,
       "layout": "IPY_MODEL_ebdbb860bc924ec6b3347c5402d4c533",
       "max": 1.0,
       "min": 0.0,
       "orientation": "horizontal",
       "style": "IPY_MODEL_f2b802d34f384cd18f641837367b05a4",
       "value": 0.0
      }
     },
     "6e974fe7754649efb4b917ce9278cdb8": {
      "model_module": "@jupyter-widgets/controls",
      "model_module_version": "1.5.0",
      "model_name": "FloatProgressModel",
      "state": {
       "_dom_classes": [],
       "_model_module": "@jupyter-widgets/controls",
       "_model_module_version": "1.5.0",
       "_model_name": "FloatProgressModel",
       "_view_count": null,
       "_view_module": "@jupyter-widgets/controls",
       "_view_module_version": "1.5.0",
       "_view_name": "ProgressView",
       "bar_style": "info",
       "description": "",
       "description_tooltip": null,
       "layout": "IPY_MODEL_7ac4ada0fb564a4f8bd051847fd4c6f8",
       "max": 1.0,
       "min": 0.0,
       "orientation": "horizontal",
       "style": "IPY_MODEL_b0a529b3977c48a7b5911eddcc48c350",
       "value": 0.0
      }
     },
     "704b528b3ca54a218ef9b10378d6d9e3": {
      "model_module": "@jupyter-widgets/base",
      "model_module_version": "1.2.0",
      "model_name": "LayoutModel",
      "state": {
       "_model_module": "@jupyter-widgets/base",
       "_model_module_version": "1.2.0",
       "_model_name": "LayoutModel",
       "_view_count": null,
       "_view_module": "@jupyter-widgets/base",
       "_view_module_version": "1.2.0",
       "_view_name": "LayoutView",
       "align_content": null,
       "align_items": null,
       "align_self": null,
       "border": null,
       "bottom": null,
       "display": null,
       "flex": null,
       "flex_flow": null,
       "grid_area": null,
       "grid_auto_columns": null,
       "grid_auto_flow": null,
       "grid_auto_rows": null,
       "grid_column": null,
       "grid_gap": null,
       "grid_row": null,
       "grid_template_areas": null,
       "grid_template_columns": null,
       "grid_template_rows": null,
       "height": null,
       "justify_content": null,
       "justify_items": null,
       "left": null,
       "margin": null,
       "max_height": null,
       "max_width": null,
       "min_height": null,
       "min_width": null,
       "object_fit": null,
       "object_position": null,
       "order": null,
       "overflow": null,
       "overflow_x": null,
       "overflow_y": null,
       "padding": null,
       "right": null,
       "top": null,
       "visibility": null,
       "width": null
      }
     },
     "7ac4ada0fb564a4f8bd051847fd4c6f8": {
      "model_module": "@jupyter-widgets/base",
      "model_module_version": "1.2.0",
      "model_name": "LayoutModel",
      "state": {
       "_model_module": "@jupyter-widgets/base",
       "_model_module_version": "1.2.0",
       "_model_name": "LayoutModel",
       "_view_count": null,
       "_view_module": "@jupyter-widgets/base",
       "_view_module_version": "1.2.0",
       "_view_name": "LayoutView",
       "align_content": null,
       "align_items": null,
       "align_self": null,
       "border": null,
       "bottom": null,
       "display": null,
       "flex": null,
       "flex_flow": null,
       "grid_area": null,
       "grid_auto_columns": null,
       "grid_auto_flow": null,
       "grid_auto_rows": null,
       "grid_column": null,
       "grid_gap": null,
       "grid_row": null,
       "grid_template_areas": null,
       "grid_template_columns": null,
       "grid_template_rows": null,
       "height": null,
       "justify_content": null,
       "justify_items": null,
       "left": null,
       "margin": null,
       "max_height": null,
       "max_width": null,
       "min_height": null,
       "min_width": null,
       "object_fit": null,
       "object_position": null,
       "order": null,
       "overflow": null,
       "overflow_x": null,
       "overflow_y": null,
       "padding": null,
       "right": null,
       "top": null,
       "visibility": null,
       "width": "20px"
      }
     },
     "86a7a796cbac49a59f3d1c69f8939a68": {
      "model_module": "@jupyter-widgets/controls",
      "model_module_version": "1.5.0",
      "model_name": "DescriptionStyleModel",
      "state": {
       "_model_module": "@jupyter-widgets/controls",
       "_model_module_version": "1.5.0",
       "_model_name": "DescriptionStyleModel",
       "_view_count": null,
       "_view_module": "@jupyter-widgets/base",
       "_view_module_version": "1.2.0",
       "_view_name": "StyleView",
       "description_width": ""
      }
     },
     "876f9ffe514349b292a99db1dc43bc1c": {
      "model_module": "@jupyter-widgets/controls",
      "model_module_version": "1.5.0",
      "model_name": "ProgressStyleModel",
      "state": {
       "_model_module": "@jupyter-widgets/controls",
       "_model_module_version": "1.5.0",
       "_model_name": "ProgressStyleModel",
       "_view_count": null,
       "_view_module": "@jupyter-widgets/base",
       "_view_module_version": "1.2.0",
       "_view_name": "StyleView",
       "bar_color": null,
       "description_width": ""
      }
     },
     "87ca77c9c7f64a2581b3588c8353e091": {
      "model_module": "@jupyter-widgets/base",
      "model_module_version": "1.2.0",
      "model_name": "LayoutModel",
      "state": {
       "_model_module": "@jupyter-widgets/base",
       "_model_module_version": "1.2.0",
       "_model_name": "LayoutModel",
       "_view_count": null,
       "_view_module": "@jupyter-widgets/base",
       "_view_module_version": "1.2.0",
       "_view_name": "LayoutView",
       "align_content": null,
       "align_items": null,
       "align_self": null,
       "border": null,
       "bottom": null,
       "display": null,
       "flex": null,
       "flex_flow": null,
       "grid_area": null,
       "grid_auto_columns": null,
       "grid_auto_flow": null,
       "grid_auto_rows": null,
       "grid_column": null,
       "grid_gap": null,
       "grid_row": null,
       "grid_template_areas": null,
       "grid_template_columns": null,
       "grid_template_rows": null,
       "height": null,
       "justify_content": null,
       "justify_items": null,
       "left": null,
       "margin": null,
       "max_height": null,
       "max_width": null,
       "min_height": null,
       "min_width": null,
       "object_fit": null,
       "object_position": null,
       "order": null,
       "overflow": null,
       "overflow_x": null,
       "overflow_y": null,
       "padding": null,
       "right": null,
       "top": null,
       "visibility": null,
       "width": "20px"
      }
     },
     "8e3f8ba86dae419cb1cebf8655974ddd": {
      "model_module": "@jupyter-widgets/controls",
      "model_module_version": "1.5.0",
      "model_name": "HTMLModel",
      "state": {
       "_dom_classes": [],
       "_model_module": "@jupyter-widgets/controls",
       "_model_module_version": "1.5.0",
       "_model_name": "HTMLModel",
       "_view_count": null,
       "_view_module": "@jupyter-widgets/controls",
       "_view_module_version": "1.5.0",
       "_view_name": "HTMLView",
       "description": "",
       "description_tooltip": null,
       "layout": "IPY_MODEL_bc82381535954f1c8f72359162b3ab57",
       "placeholder": "​",
       "style": "IPY_MODEL_9eb2901e0a1d41daa97bc0262d613d3c",
       "value": ""
      }
     },
     "9a9db637277c4c89bf83979465c68424": {
      "model_module": "@jupyter-widgets/controls",
      "model_module_version": "1.5.0",
      "model_name": "DescriptionStyleModel",
      "state": {
       "_model_module": "@jupyter-widgets/controls",
       "_model_module_version": "1.5.0",
       "_model_name": "DescriptionStyleModel",
       "_view_count": null,
       "_view_module": "@jupyter-widgets/base",
       "_view_module_version": "1.2.0",
       "_view_name": "StyleView",
       "description_width": ""
      }
     },
     "9bfbef55b1634322bae8b5aecea207c8": {
      "model_module": "@jupyter-widgets/controls",
      "model_module_version": "1.5.0",
      "model_name": "ProgressStyleModel",
      "state": {
       "_model_module": "@jupyter-widgets/controls",
       "_model_module_version": "1.5.0",
       "_model_name": "ProgressStyleModel",
       "_view_count": null,
       "_view_module": "@jupyter-widgets/base",
       "_view_module_version": "1.2.0",
       "_view_name": "StyleView",
       "bar_color": null,
       "description_width": ""
      }
     },
     "9eb2901e0a1d41daa97bc0262d613d3c": {
      "model_module": "@jupyter-widgets/controls",
      "model_module_version": "1.5.0",
      "model_name": "DescriptionStyleModel",
      "state": {
       "_model_module": "@jupyter-widgets/controls",
       "_model_module_version": "1.5.0",
       "_model_name": "DescriptionStyleModel",
       "_view_count": null,
       "_view_module": "@jupyter-widgets/base",
       "_view_module_version": "1.2.0",
       "_view_name": "StyleView",
       "description_width": ""
      }
     },
     "a5e5dbe1a9a3401f96eb8f986118fc30": {
      "model_module": "@jupyter-widgets/controls",
      "model_module_version": "1.5.0",
      "model_name": "HTMLModel",
      "state": {
       "_dom_classes": [],
       "_model_module": "@jupyter-widgets/controls",
       "_model_module_version": "1.5.0",
       "_model_name": "HTMLModel",
       "_view_count": null,
       "_view_module": "@jupyter-widgets/controls",
       "_view_module_version": "1.5.0",
       "_view_name": "HTMLView",
       "description": "",
       "description_tooltip": null,
       "layout": "IPY_MODEL_d05602eed17e4767bdf285efcc3c7bd4",
       "placeholder": "​",
       "style": "IPY_MODEL_86a7a796cbac49a59f3d1c69f8939a68",
       "value": " 0/28881 [00:00&lt;?, ?it/s]"
      }
     },
     "af73d4656ad94b9b8451c362fd55b8c4": {
      "model_module": "@jupyter-widgets/controls",
      "model_module_version": "1.5.0",
      "model_name": "HBoxModel",
      "state": {
       "_dom_classes": [],
       "_model_module": "@jupyter-widgets/controls",
       "_model_module_version": "1.5.0",
       "_model_name": "HBoxModel",
       "_view_count": null,
       "_view_module": "@jupyter-widgets/controls",
       "_view_module_version": "1.5.0",
       "_view_name": "HBoxView",
       "box_style": "",
       "children": [
        "IPY_MODEL_c292259105754e288d91a1cad2147640",
        "IPY_MODEL_6e974fe7754649efb4b917ce9278cdb8",
        "IPY_MODEL_dbb8b8dd1faa4e5386a915c3a879207e"
       ],
       "layout": "IPY_MODEL_f54c6d97a6144c02961d663aeb785666"
      }
     },
     "b0a529b3977c48a7b5911eddcc48c350": {
      "model_module": "@jupyter-widgets/controls",
      "model_module_version": "1.5.0",
      "model_name": "ProgressStyleModel",
      "state": {
       "_model_module": "@jupyter-widgets/controls",
       "_model_module_version": "1.5.0",
       "_model_name": "ProgressStyleModel",
       "_view_count": null,
       "_view_module": "@jupyter-widgets/base",
       "_view_module_version": "1.2.0",
       "_view_name": "StyleView",
       "bar_color": null,
       "description_width": ""
      }
     },
     "b254e7baaffb4ec3b5ba5780785a9c5e": {
      "model_module": "@jupyter-widgets/controls",
      "model_module_version": "1.5.0",
      "model_name": "HTMLModel",
      "state": {
       "_dom_classes": [],
       "_model_module": "@jupyter-widgets/controls",
       "_model_module_version": "1.5.0",
       "_model_name": "HTMLModel",
       "_view_count": null,
       "_view_module": "@jupyter-widgets/controls",
       "_view_module_version": "1.5.0",
       "_view_name": "HTMLView",
       "description": "",
       "description_tooltip": null,
       "layout": "IPY_MODEL_50aefc23bebe4381973b751e7661cf19",
       "placeholder": "​",
       "style": "IPY_MODEL_c53243a41676486bae7816add104e4c6",
       "value": ""
      }
     },
     "bc82381535954f1c8f72359162b3ab57": {
      "model_module": "@jupyter-widgets/base",
      "model_module_version": "1.2.0",
      "model_name": "LayoutModel",
      "state": {
       "_model_module": "@jupyter-widgets/base",
       "_model_module_version": "1.2.0",
       "_model_name": "LayoutModel",
       "_view_count": null,
       "_view_module": "@jupyter-widgets/base",
       "_view_module_version": "1.2.0",
       "_view_name": "LayoutView",
       "align_content": null,
       "align_items": null,
       "align_self": null,
       "border": null,
       "bottom": null,
       "display": null,
       "flex": null,
       "flex_flow": null,
       "grid_area": null,
       "grid_auto_columns": null,
       "grid_auto_flow": null,
       "grid_auto_rows": null,
       "grid_column": null,
       "grid_gap": null,
       "grid_row": null,
       "grid_template_areas": null,
       "grid_template_columns": null,
       "grid_template_rows": null,
       "height": null,
       "justify_content": null,
       "justify_items": null,
       "left": null,
       "margin": null,
       "max_height": null,
       "max_width": null,
       "min_height": null,
       "min_width": null,
       "object_fit": null,
       "object_position": null,
       "order": null,
       "overflow": null,
       "overflow_x": null,
       "overflow_y": null,
       "padding": null,
       "right": null,
       "top": null,
       "visibility": null,
       "width": null
      }
     },
     "bed79f9ebd824ebc874f5d9cdbd78500": {
      "model_module": "@jupyter-widgets/controls",
      "model_module_version": "1.5.0",
      "model_name": "DescriptionStyleModel",
      "state": {
       "_model_module": "@jupyter-widgets/controls",
       "_model_module_version": "1.5.0",
       "_model_name": "DescriptionStyleModel",
       "_view_count": null,
       "_view_module": "@jupyter-widgets/base",
       "_view_module_version": "1.2.0",
       "_view_name": "StyleView",
       "description_width": ""
      }
     },
     "c06e707d44d14b4a9713359e931cd58a": {
      "model_module": "@jupyter-widgets/controls",
      "model_module_version": "1.5.0",
      "model_name": "HTMLModel",
      "state": {
       "_dom_classes": [],
       "_model_module": "@jupyter-widgets/controls",
       "_model_module_version": "1.5.0",
       "_model_name": "HTMLModel",
       "_view_count": null,
       "_view_module": "@jupyter-widgets/controls",
       "_view_module_version": "1.5.0",
       "_view_name": "HTMLView",
       "description": "",
       "description_tooltip": null,
       "layout": "IPY_MODEL_637582b490764160a27e7e1451da2857",
       "placeholder": "​",
       "style": "IPY_MODEL_2ecb95e15c984bbc9d3d3c3ef428fadb",
       "value": " 1654784/? [01:04&lt;00:00, 29694.12it/s]"
      }
     },
     "c292259105754e288d91a1cad2147640": {
      "model_module": "@jupyter-widgets/controls",
      "model_module_version": "1.5.0",
      "model_name": "HTMLModel",
      "state": {
       "_dom_classes": [],
       "_model_module": "@jupyter-widgets/controls",
       "_model_module_version": "1.5.0",
       "_model_name": "HTMLModel",
       "_view_count": null,
       "_view_module": "@jupyter-widgets/controls",
       "_view_module_version": "1.5.0",
       "_view_name": "HTMLView",
       "description": "",
       "description_tooltip": null,
       "layout": "IPY_MODEL_5687b142a3ff4a8c84504f81d76f5b2a",
       "placeholder": "​",
       "style": "IPY_MODEL_4a6b4488bc1d45e5ad9ca933e60faccd",
       "value": "  0%"
      }
     },
     "c53243a41676486bae7816add104e4c6": {
      "model_module": "@jupyter-widgets/controls",
      "model_module_version": "1.5.0",
      "model_name": "DescriptionStyleModel",
      "state": {
       "_model_module": "@jupyter-widgets/controls",
       "_model_module_version": "1.5.0",
       "_model_name": "DescriptionStyleModel",
       "_view_count": null,
       "_view_module": "@jupyter-widgets/base",
       "_view_module_version": "1.2.0",
       "_view_name": "StyleView",
       "description_width": ""
      }
     },
     "c65c10dd8a4e49d9b28e743200044488": {
      "model_module": "@jupyter-widgets/controls",
      "model_module_version": "1.5.0",
      "model_name": "HTMLModel",
      "state": {
       "_dom_classes": [],
       "_model_module": "@jupyter-widgets/controls",
       "_model_module_version": "1.5.0",
       "_model_name": "HTMLModel",
       "_view_count": null,
       "_view_module": "@jupyter-widgets/controls",
       "_view_module_version": "1.5.0",
       "_view_name": "HTMLView",
       "description": "",
       "description_tooltip": null,
       "layout": "IPY_MODEL_d5581c34dd7a41ecaf0e737da019cf68",
       "placeholder": "​",
       "style": "IPY_MODEL_1645ee6ebbf442cc8e7ed1b8d9adc6f4",
       "value": "  0%"
      }
     },
     "cf1d93f13b3342c5a89cc636d893525d": {
      "model_module": "@jupyter-widgets/controls",
      "model_module_version": "1.5.0",
      "model_name": "HBoxModel",
      "state": {
       "_dom_classes": [],
       "_model_module": "@jupyter-widgets/controls",
       "_model_module_version": "1.5.0",
       "_model_name": "HBoxModel",
       "_view_count": null,
       "_view_module": "@jupyter-widgets/controls",
       "_view_module_version": "1.5.0",
       "_view_name": "HBoxView",
       "box_style": "",
       "children": [
        "IPY_MODEL_b254e7baaffb4ec3b5ba5780785a9c5e",
        "IPY_MODEL_0d5b7ef97fb44741bd70514704136799",
        "IPY_MODEL_4d84ef53c7ac4f4c929a070adf2afcfe"
       ],
       "layout": "IPY_MODEL_e8a9ade4a5b24117b5340b2568b440a1"
      }
     },
     "d05602eed17e4767bdf285efcc3c7bd4": {
      "model_module": "@jupyter-widgets/base",
      "model_module_version": "1.2.0",
      "model_name": "LayoutModel",
      "state": {
       "_model_module": "@jupyter-widgets/base",
       "_model_module_version": "1.2.0",
       "_model_name": "LayoutModel",
       "_view_count": null,
       "_view_module": "@jupyter-widgets/base",
       "_view_module_version": "1.2.0",
       "_view_name": "LayoutView",
       "align_content": null,
       "align_items": null,
       "align_self": null,
       "border": null,
       "bottom": null,
       "display": null,
       "flex": null,
       "flex_flow": null,
       "grid_area": null,
       "grid_auto_columns": null,
       "grid_auto_flow": null,
       "grid_auto_rows": null,
       "grid_column": null,
       "grid_gap": null,
       "grid_row": null,
       "grid_template_areas": null,
       "grid_template_columns": null,
       "grid_template_rows": null,
       "height": null,
       "justify_content": null,
       "justify_items": null,
       "left": null,
       "margin": null,
       "max_height": null,
       "max_width": null,
       "min_height": null,
       "min_width": null,
       "object_fit": null,
       "object_position": null,
       "order": null,
       "overflow": null,
       "overflow_x": null,
       "overflow_y": null,
       "padding": null,
       "right": null,
       "top": null,
       "visibility": null,
       "width": null
      }
     },
     "d5581c34dd7a41ecaf0e737da019cf68": {
      "model_module": "@jupyter-widgets/base",
      "model_module_version": "1.2.0",
      "model_name": "LayoutModel",
      "state": {
       "_model_module": "@jupyter-widgets/base",
       "_model_module_version": "1.2.0",
       "_model_name": "LayoutModel",
       "_view_count": null,
       "_view_module": "@jupyter-widgets/base",
       "_view_module_version": "1.2.0",
       "_view_name": "LayoutView",
       "align_content": null,
       "align_items": null,
       "align_self": null,
       "border": null,
       "bottom": null,
       "display": null,
       "flex": null,
       "flex_flow": null,
       "grid_area": null,
       "grid_auto_columns": null,
       "grid_auto_flow": null,
       "grid_auto_rows": null,
       "grid_column": null,
       "grid_gap": null,
       "grid_row": null,
       "grid_template_areas": null,
       "grid_template_columns": null,
       "grid_template_rows": null,
       "height": null,
       "justify_content": null,
       "justify_items": null,
       "left": null,
       "margin": null,
       "max_height": null,
       "max_width": null,
       "min_height": null,
       "min_width": null,
       "object_fit": null,
       "object_position": null,
       "order": null,
       "overflow": null,
       "overflow_x": null,
       "overflow_y": null,
       "padding": null,
       "right": null,
       "top": null,
       "visibility": null,
       "width": null
      }
     },
     "dbb8b8dd1faa4e5386a915c3a879207e": {
      "model_module": "@jupyter-widgets/controls",
      "model_module_version": "1.5.0",
      "model_name": "HTMLModel",
      "state": {
       "_dom_classes": [],
       "_model_module": "@jupyter-widgets/controls",
       "_model_module_version": "1.5.0",
       "_model_name": "HTMLModel",
       "_view_count": null,
       "_view_module": "@jupyter-widgets/controls",
       "_view_module_version": "1.5.0",
       "_view_name": "HTMLView",
       "description": "",
       "description_tooltip": null,
       "layout": "IPY_MODEL_704b528b3ca54a218ef9b10378d6d9e3",
       "placeholder": "​",
       "style": "IPY_MODEL_9a9db637277c4c89bf83979465c68424",
       "value": " 0/4542 [00:00&lt;?, ?it/s]"
      }
     },
     "e8a9ade4a5b24117b5340b2568b440a1": {
      "model_module": "@jupyter-widgets/base",
      "model_module_version": "1.2.0",
      "model_name": "LayoutModel",
      "state": {
       "_model_module": "@jupyter-widgets/base",
       "_model_module_version": "1.2.0",
       "_model_name": "LayoutModel",
       "_view_count": null,
       "_view_module": "@jupyter-widgets/base",
       "_view_module_version": "1.2.0",
       "_view_name": "LayoutView",
       "align_content": null,
       "align_items": null,
       "align_self": null,
       "border": null,
       "bottom": null,
       "display": null,
       "flex": null,
       "flex_flow": null,
       "grid_area": null,
       "grid_auto_columns": null,
       "grid_auto_flow": null,
       "grid_auto_rows": null,
       "grid_column": null,
       "grid_gap": null,
       "grid_row": null,
       "grid_template_areas": null,
       "grid_template_columns": null,
       "grid_template_rows": null,
       "height": null,
       "justify_content": null,
       "justify_items": null,
       "left": null,
       "margin": null,
       "max_height": null,
       "max_width": null,
       "min_height": null,
       "min_width": null,
       "object_fit": null,
       "object_position": null,
       "order": null,
       "overflow": null,
       "overflow_x": null,
       "overflow_y": null,
       "padding": null,
       "right": null,
       "top": null,
       "visibility": null,
       "width": null
      }
     },
     "ebdbb860bc924ec6b3347c5402d4c533": {
      "model_module": "@jupyter-widgets/base",
      "model_module_version": "1.2.0",
      "model_name": "LayoutModel",
      "state": {
       "_model_module": "@jupyter-widgets/base",
       "_model_module_version": "1.2.0",
       "_model_name": "LayoutModel",
       "_view_count": null,
       "_view_module": "@jupyter-widgets/base",
       "_view_module_version": "1.2.0",
       "_view_name": "LayoutView",
       "align_content": null,
       "align_items": null,
       "align_self": null,
       "border": null,
       "bottom": null,
       "display": null,
       "flex": null,
       "flex_flow": null,
       "grid_area": null,
       "grid_auto_columns": null,
       "grid_auto_flow": null,
       "grid_auto_rows": null,
       "grid_column": null,
       "grid_gap": null,
       "grid_row": null,
       "grid_template_areas": null,
       "grid_template_columns": null,
       "grid_template_rows": null,
       "height": null,
       "justify_content": null,
       "justify_items": null,
       "left": null,
       "margin": null,
       "max_height": null,
       "max_width": null,
       "min_height": null,
       "min_width": null,
       "object_fit": null,
       "object_position": null,
       "order": null,
       "overflow": null,
       "overflow_x": null,
       "overflow_y": null,
       "padding": null,
       "right": null,
       "top": null,
       "visibility": null,
       "width": "20px"
      }
     },
     "f2b802d34f384cd18f641837367b05a4": {
      "model_module": "@jupyter-widgets/controls",
      "model_module_version": "1.5.0",
      "model_name": "ProgressStyleModel",
      "state": {
       "_model_module": "@jupyter-widgets/controls",
       "_model_module_version": "1.5.0",
       "_model_name": "ProgressStyleModel",
       "_view_count": null,
       "_view_module": "@jupyter-widgets/base",
       "_view_module_version": "1.2.0",
       "_view_name": "StyleView",
       "bar_color": null,
       "description_width": ""
      }
     },
     "f31a548c48af4e26be44f7728d9c3f1c": {
      "model_module": "@jupyter-widgets/base",
      "model_module_version": "1.2.0",
      "model_name": "LayoutModel",
      "state": {
       "_model_module": "@jupyter-widgets/base",
       "_model_module_version": "1.2.0",
       "_model_name": "LayoutModel",
       "_view_count": null,
       "_view_module": "@jupyter-widgets/base",
       "_view_module_version": "1.2.0",
       "_view_name": "LayoutView",
       "align_content": null,
       "align_items": null,
       "align_self": null,
       "border": null,
       "bottom": null,
       "display": null,
       "flex": null,
       "flex_flow": null,
       "grid_area": null,
       "grid_auto_columns": null,
       "grid_auto_flow": null,
       "grid_auto_rows": null,
       "grid_column": null,
       "grid_gap": null,
       "grid_row": null,
       "grid_template_areas": null,
       "grid_template_columns": null,
       "grid_template_rows": null,
       "height": null,
       "justify_content": null,
       "justify_items": null,
       "left": null,
       "margin": null,
       "max_height": null,
       "max_width": null,
       "min_height": null,
       "min_width": null,
       "object_fit": null,
       "object_position": null,
       "order": null,
       "overflow": null,
       "overflow_x": null,
       "overflow_y": null,
       "padding": null,
       "right": null,
       "top": null,
       "visibility": null,
       "width": null
      }
     },
     "f54c6d97a6144c02961d663aeb785666": {
      "model_module": "@jupyter-widgets/base",
      "model_module_version": "1.2.0",
      "model_name": "LayoutModel",
      "state": {
       "_model_module": "@jupyter-widgets/base",
       "_model_module_version": "1.2.0",
       "_model_name": "LayoutModel",
       "_view_count": null,
       "_view_module": "@jupyter-widgets/base",
       "_view_module_version": "1.2.0",
       "_view_name": "LayoutView",
       "align_content": null,
       "align_items": null,
       "align_self": null,
       "border": null,
       "bottom": null,
       "display": null,
       "flex": null,
       "flex_flow": null,
       "grid_area": null,
       "grid_auto_columns": null,
       "grid_auto_flow": null,
       "grid_auto_rows": null,
       "grid_column": null,
       "grid_gap": null,
       "grid_row": null,
       "grid_template_areas": null,
       "grid_template_columns": null,
       "grid_template_rows": null,
       "height": null,
       "justify_content": null,
       "justify_items": null,
       "left": null,
       "margin": null,
       "max_height": null,
       "max_width": null,
       "min_height": null,
       "min_width": null,
       "object_fit": null,
       "object_position": null,
       "order": null,
       "overflow": null,
       "overflow_x": null,
       "overflow_y": null,
       "padding": null,
       "right": null,
       "top": null,
       "visibility": null,
       "width": null
      }
     },
     "f79e5b26ba2b4d87a65821697f72fb21": {
      "model_module": "@jupyter-widgets/base",
      "model_module_version": "1.2.0",
      "model_name": "LayoutModel",
      "state": {
       "_model_module": "@jupyter-widgets/base",
       "_model_module_version": "1.2.0",
       "_model_name": "LayoutModel",
       "_view_count": null,
       "_view_module": "@jupyter-widgets/base",
       "_view_module_version": "1.2.0",
       "_view_name": "LayoutView",
       "align_content": null,
       "align_items": null,
       "align_self": null,
       "border": null,
       "bottom": null,
       "display": null,
       "flex": null,
       "flex_flow": null,
       "grid_area": null,
       "grid_auto_columns": null,
       "grid_auto_flow": null,
       "grid_auto_rows": null,
       "grid_column": null,
       "grid_gap": null,
       "grid_row": null,
       "grid_template_areas": null,
       "grid_template_columns": null,
       "grid_template_rows": null,
       "height": null,
       "justify_content": null,
       "justify_items": null,
       "left": null,
       "margin": null,
       "max_height": null,
       "max_width": null,
       "min_height": null,
       "min_width": null,
       "object_fit": null,
       "object_position": null,
       "order": null,
       "overflow": null,
       "overflow_x": null,
       "overflow_y": null,
       "padding": null,
       "right": null,
       "top": null,
       "visibility": null,
       "width": null
      }
     }
    },
    "version_major": 2,
    "version_minor": 0
   }
  }
 },
 "nbformat": 4,
 "nbformat_minor": 5
}
